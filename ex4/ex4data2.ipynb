{
 "cells": [
  {
   "cell_type": "code",
   "execution_count": 1,
   "metadata": {},
   "outputs": [],
   "source": [
    "import copy\n",
    "import datetime as dt\n",
    "import matplotlib.pyplot as plt\n",
    "import numpy as np\n",
    "import pandas as pd\n",
    "import pmdarima as pm\n"
   ]
  },
  {
   "cell_type": "code",
   "execution_count": 2,
   "metadata": {},
   "outputs": [],
   "source": [
    "def readExcel(path: str, sheet_name: str, index: pd.DataFrame | None) -> pd.DataFrame:\n",
    "    df = pd.read_excel(path, sheet_name, parse_dates=[0]).set_index(\"Date\")\n",
    "    df.interpolate(method=\"linear\", limit_direction=\"forward\", axis=0, inplace=True)\n",
    "    return pd.concat([df, index], axis=1, join=\"outer\").dropna()\n"
   ]
  },
  {
   "cell_type": "code",
   "execution_count": 3,
   "metadata": {},
   "outputs": [],
   "source": [
    "def getMarketIndex(path: str, scope: str) -> pd.DataFrame:\n",
    "    index1 = pd.read_excel(path, \"HSI\", parse_dates=[0]).set_index(\"Date\").drop(columns=\"Volume\").rename(columns={scope: \"HSI\"})[\"HSI\"]\n",
    "    index2 = pd.read_excel(path, \"DJI\", parse_dates=[0]).set_index(\"Date\").drop(columns=\"Volume\").rename(columns={scope: \"DJI\"})[\"DJI\"]\n",
    "    index3 = pd.read_excel(path, \"SSEC\", parse_dates=[0]).set_index(\"Date\").drop(columns=\"Volume\").rename(columns={scope: \"SSEC\"})[\"SSEC\"]\n",
    "    index = pd.concat([index1, index2, index3], axis=1, join=\"outer\")\n",
    "    return index.interpolate(method=\"linear\", limit_direction=\"forward\", axis=0)\n"
   ]
  },
  {
   "cell_type": "code",
   "execution_count": 4,
   "metadata": {},
   "outputs": [],
   "source": [
    "def trainTestSplit(df: pd.DataFrame, endDate: dt.datetime) -> tuple[pd.DataFrame, pd.DataFrame]:\n",
    "    trainSet = df[df.index.date <= endDate]\n",
    "    testSet = df[df.index.date > endDate]\n",
    "    return (trainSet, testSet)\n"
   ]
  },
  {
   "cell_type": "code",
   "execution_count": 5,
   "metadata": {},
   "outputs": [],
   "source": [
    "def getARIMAmodel(varY: pd.Series, varX: pd.DataFrame | None, trace: bool) -> pm.ARIMA:\n",
    "    return pm.auto_arima(varY, X=varX, trace=trace, m=1, seasonal=False, max_p=5, max_q=5, max_order=10, stepwise=False, n_jobs=-1)\n"
   ]
  },
  {
   "cell_type": "code",
   "execution_count": 6,
   "metadata": {},
   "outputs": [],
   "source": [
    "def getSARIMAmodel(varY: pd.Series, varX: pd.DataFrame | None, trace: bool) -> pm.ARIMA:\n",
    "    return pm.auto_arima(varY, X=varX, trace=trace, seasonal=True, m=12, d=None, D=1, max_p=5, max_q=5, start_P=0)\n"
   ]
  },
  {
   "cell_type": "code",
   "execution_count": 7,
   "metadata": {},
   "outputs": [],
   "source": [
    "def plotPred(FC: np.ndarray, CI, index: pd.Index, fullSet: pd.DataFrame, title: str | None = None):\n",
    "    Prdf = pd.Series(FC, index=index)\n",
    "    PrCIdf = pd.DataFrame(CI)\n",
    "\n",
    "    fig, ax = plt.subplots(1, 1, figsize=(15, 5))\n",
    "    ax.plot(fullSet)\n",
    "    ax.plot(Prdf)\n",
    "    plt.xlim(xmin=dt.datetime(2022, 1, 1), xmax=dt.datetime(2023, 3, 31))\n",
    "    ax.fill_between(Prdf.index, PrCIdf[0], PrCIdf[1], color='grey', alpha=.3)\n",
    "    if title is not None:\n",
    "        plt.title(title)\n"
   ]
  },
  {
   "cell_type": "code",
   "execution_count": 8,
   "metadata": {},
   "outputs": [],
   "source": [
    "def plotPredFC(PredFC: np.ndarray, PredCI, PredIndex: pd.Index, RealFC: np.ndarray, RealCI, FCIndex: pd.Index, fullSet: pd.Series, title: str | None = None):\n",
    "    Prdf = pd.Series(PredFC, index=PredIndex)\n",
    "    PrCIdf = pd.DataFrame(PredCI)\n",
    "    FCdf = pd.Series(RealFC, index=FCIndex)\n",
    "    FCCIdf = pd.DataFrame(RealCI)\n",
    "\n",
    "    fig, ax = plt.subplots(1, 1, figsize=(15, 5))\n",
    "    ax.plot(fullSet)\n",
    "    ax.plot(Prdf)\n",
    "    ax.plot(FCdf)\n",
    "    plt.xlim(xmin=dt.datetime(2022, 1, 1), xmax=dt.datetime(2023, 3, 31))\n",
    "    ax.fill_between(Prdf.index, PrCIdf[0], PrCIdf[1], color='grey', alpha=.3)\n",
    "    ax.fill_between(FCdf.index, FCCIdf[0], FCCIdf[1], color='grey', alpha=.3)\n",
    "    if title is not None:\n",
    "        plt.title(title)\n"
   ]
  },
  {
   "cell_type": "code",
   "execution_count": 9,
   "metadata": {},
   "outputs": [],
   "source": [
    "def getMAPE(pred: pd.Series | np.ndarray, true: pd.Series) -> float:\n",
    "    return np.mean(np.abs(pred - true) / np.abs(true))\n"
   ]
  },
  {
   "cell_type": "code",
   "execution_count": 10,
   "metadata": {},
   "outputs": [],
   "source": [
    "def getRequiredTimestamp(index: list) -> list:\n",
    "    febHolidays = [4, 5, 11, 12, 18, 19, 25, 26]\n",
    "    marHolidays = [4, 5, 11, 12, 18, 19, 25, 26]\n",
    "\n",
    "    for month in range(1, 4):\n",
    "        for day in range(1, 32):\n",
    "            if month == 2 and day <= 28 and (day > 21 and day not in febHolidays):\n",
    "                index.append(pd.Timestamp(2023, month, day))\n",
    "            elif month == 3 and day <= 31 and (day not in marHolidays):\n",
    "                index.append(pd.Timestamp(2023, month, day))\n",
    "    return index\n"
   ]
  },
  {
   "cell_type": "code",
   "execution_count": 11,
   "metadata": {},
   "outputs": [],
   "source": [
    "path = \"./Ex4_data2.xlsx\"\n",
    "scope = \"Adj Close\"\n",
    "endDate = dt.date(2022, 12, 31)\n",
    "\n",
    "index = getMarketIndex(path, scope)\n",
    "HK0005 = readExcel(path, \"0005.HK\", index)\n",
    "HK0027 = readExcel(path, \"0027.HK\", index)\n",
    "HK0101 = readExcel(path, \"0101.HK\", index)\n",
    "HK0005Train, HK0005Test = trainTestSplit(HK0005, endDate)\n",
    "HK0027Train, HK0027Test = trainTestSplit(HK0027, endDate)\n",
    "HK0101Train, HK0101Test = trainTestSplit(HK0101, endDate)\n"
   ]
  },
  {
   "attachments": {},
   "cell_type": "markdown",
   "metadata": {},
   "source": [
    "### Basic ARIMA\n"
   ]
  },
  {
   "attachments": {},
   "cell_type": "markdown",
   "metadata": {},
   "source": [
    "#### 0005HK\n"
   ]
  },
  {
   "cell_type": "code",
   "execution_count": 12,
   "metadata": {},
   "outputs": [
    {
     "data": {
      "text/html": [
       "<table class=\"simpletable\">\n",
       "<caption>SARIMAX Results</caption>\n",
       "<tr>\n",
       "  <th>Dep. Variable:</th>           <td>y</td>        <th>  No. Observations:  </th>   <td>5749</td>   \n",
       "</tr>\n",
       "<tr>\n",
       "  <th>Model:</th>           <td>SARIMAX(3, 1, 2)</td> <th>  Log Likelihood     </th> <td>-6406.371</td>\n",
       "</tr>\n",
       "<tr>\n",
       "  <th>Date:</th>            <td>Tue, 07 Mar 2023</td> <th>  AIC                </th> <td>12826.741</td>\n",
       "</tr>\n",
       "<tr>\n",
       "  <th>Time:</th>                <td>15:13:58</td>     <th>  BIC                </th> <td>12873.337</td>\n",
       "</tr>\n",
       "<tr>\n",
       "  <th>Sample:</th>                  <td>0</td>        <th>  HQIC               </th> <td>12842.958</td>\n",
       "</tr>\n",
       "<tr>\n",
       "  <th></th>                      <td> - 5749</td>     <th>                     </th>     <td> </td>    \n",
       "</tr>\n",
       "<tr>\n",
       "  <th>Covariance Type:</th>        <td>opg</td>       <th>                     </th>     <td> </td>    \n",
       "</tr>\n",
       "</table>\n",
       "<table class=\"simpletable\">\n",
       "<tr>\n",
       "      <td></td>         <th>coef</th>     <th>std err</th>      <th>z</th>      <th>P>|z|</th>  <th>[0.025</th>    <th>0.975]</th>  \n",
       "</tr>\n",
       "<tr>\n",
       "  <th>intercept</th> <td>  1.88e-05</td> <td>    0.009</td> <td>    0.002</td> <td> 0.998</td> <td>   -0.017</td> <td>    0.017</td>\n",
       "</tr>\n",
       "<tr>\n",
       "  <th>ar.L1</th>     <td>    1.1028</td> <td>    0.009</td> <td>  123.085</td> <td> 0.000</td> <td>    1.085</td> <td>    1.120</td>\n",
       "</tr>\n",
       "<tr>\n",
       "  <th>ar.L2</th>     <td>   -0.9680</td> <td>    0.009</td> <td> -102.131</td> <td> 0.000</td> <td>   -0.987</td> <td>   -0.949</td>\n",
       "</tr>\n",
       "<tr>\n",
       "  <th>ar.L3</th>     <td>   -0.0191</td> <td>    0.007</td> <td>   -2.929</td> <td> 0.003</td> <td>   -0.032</td> <td>   -0.006</td>\n",
       "</tr>\n",
       "<tr>\n",
       "  <th>ma.L1</th>     <td>   -1.1138</td> <td>    0.007</td> <td> -168.422</td> <td> 0.000</td> <td>   -1.127</td> <td>   -1.101</td>\n",
       "</tr>\n",
       "<tr>\n",
       "  <th>ma.L2</th>     <td>    0.9819</td> <td>    0.007</td> <td>  146.633</td> <td> 0.000</td> <td>    0.969</td> <td>    0.995</td>\n",
       "</tr>\n",
       "<tr>\n",
       "  <th>sigma2</th>    <td>    0.5444</td> <td>    0.004</td> <td>  128.277</td> <td> 0.000</td> <td>    0.536</td> <td>    0.553</td>\n",
       "</tr>\n",
       "</table>\n",
       "<table class=\"simpletable\">\n",
       "<tr>\n",
       "  <th>Ljung-Box (L1) (Q):</th>     <td>0.00</td> <th>  Jarque-Bera (JB):  </th> <td>28891.04</td>\n",
       "</tr>\n",
       "<tr>\n",
       "  <th>Prob(Q):</th>                <td>0.95</td> <th>  Prob(JB):          </th>   <td>0.00</td>  \n",
       "</tr>\n",
       "<tr>\n",
       "  <th>Heteroskedasticity (H):</th> <td>1.11</td> <th>  Skew:              </th>   <td>-0.37</td> \n",
       "</tr>\n",
       "<tr>\n",
       "  <th>Prob(H) (two-sided):</th>    <td>0.02</td> <th>  Kurtosis:          </th>   <td>13.96</td> \n",
       "</tr>\n",
       "</table><br/><br/>Warnings:<br/>[1] Covariance matrix calculated using the outer product of gradients (complex-step)."
      ],
      "text/plain": [
       "<class 'statsmodels.iolib.summary.Summary'>\n",
       "\"\"\"\n",
       "                               SARIMAX Results                                \n",
       "==============================================================================\n",
       "Dep. Variable:                      y   No. Observations:                 5749\n",
       "Model:               SARIMAX(3, 1, 2)   Log Likelihood               -6406.371\n",
       "Date:                Tue, 07 Mar 2023   AIC                          12826.741\n",
       "Time:                        15:13:58   BIC                          12873.337\n",
       "Sample:                             0   HQIC                         12842.958\n",
       "                               - 5749                                         \n",
       "Covariance Type:                  opg                                         \n",
       "==============================================================================\n",
       "                 coef    std err          z      P>|z|      [0.025      0.975]\n",
       "------------------------------------------------------------------------------\n",
       "intercept    1.88e-05      0.009      0.002      0.998      -0.017       0.017\n",
       "ar.L1          1.1028      0.009    123.085      0.000       1.085       1.120\n",
       "ar.L2         -0.9680      0.009   -102.131      0.000      -0.987      -0.949\n",
       "ar.L3         -0.0191      0.007     -2.929      0.003      -0.032      -0.006\n",
       "ma.L1         -1.1138      0.007   -168.422      0.000      -1.127      -1.101\n",
       "ma.L2          0.9819      0.007    146.633      0.000       0.969       0.995\n",
       "sigma2         0.5444      0.004    128.277      0.000       0.536       0.553\n",
       "===================================================================================\n",
       "Ljung-Box (L1) (Q):                   0.00   Jarque-Bera (JB):             28891.04\n",
       "Prob(Q):                              0.95   Prob(JB):                         0.00\n",
       "Heteroskedasticity (H):               1.11   Skew:                            -0.37\n",
       "Prob(H) (two-sided):                  0.02   Kurtosis:                        13.96\n",
       "===================================================================================\n",
       "\n",
       "Warnings:\n",
       "[1] Covariance matrix calculated using the outer product of gradients (complex-step).\n",
       "\"\"\""
      ]
     },
     "execution_count": 12,
     "metadata": {},
     "output_type": "execute_result"
    }
   ],
   "source": [
    "# HK0005Base = getARIMAmodel(HK0005Train[scope], True) # SARIMAX(3, 1, 2)\n",
    "HK0005Base = pm.ARIMA(order=(3, 1, 2), suppress_warnings=True).fit(HK0005Train[scope])\n",
    "HK0005Base.summary()\n"
   ]
  },
  {
   "cell_type": "code",
   "execution_count": 13,
   "metadata": {},
   "outputs": [
    {
     "name": "stdout",
     "output_type": "stream",
     "text": [
      "MAPE: 0.13199783875148693\n"
     ]
    }
   ],
   "source": [
    "HK0005BFC, HK0005BCI = HK0005Base.predict(n_periods=len(HK0005Test[scope]), return_conf_int=True)\n",
    "HK0005BMAPE = getMAPE(HK0005BFC, HK0005Test[scope])\n",
    "\n",
    "# plotPred(HK0005BFC, HK0005BCI, HK0005Test.index, HK0005[scope])\n",
    "print(f\"MAPE: {HK0005BMAPE}\")\n"
   ]
  },
  {
   "attachments": {},
   "cell_type": "markdown",
   "metadata": {},
   "source": [
    "#### 0027HK\n"
   ]
  },
  {
   "cell_type": "code",
   "execution_count": 14,
   "metadata": {},
   "outputs": [
    {
     "data": {
      "text/html": [
       "<table class=\"simpletable\">\n",
       "<caption>SARIMAX Results</caption>\n",
       "<tr>\n",
       "  <th>Dep. Variable:</th>           <td>y</td>        <th>  No. Observations:  </th>   <td>5749</td>   \n",
       "</tr>\n",
       "<tr>\n",
       "  <th>Model:</th>           <td>SARIMAX(4, 1, 4)</td> <th>  Log Likelihood     </th> <td>-6746.785</td>\n",
       "</tr>\n",
       "<tr>\n",
       "  <th>Date:</th>            <td>Tue, 07 Mar 2023</td> <th>  AIC                </th> <td>13513.570</td>\n",
       "</tr>\n",
       "<tr>\n",
       "  <th>Time:</th>                <td>15:14:04</td>     <th>  BIC                </th> <td>13580.136</td>\n",
       "</tr>\n",
       "<tr>\n",
       "  <th>Sample:</th>                  <td>0</td>        <th>  HQIC               </th> <td>13536.737</td>\n",
       "</tr>\n",
       "<tr>\n",
       "  <th></th>                      <td> - 5749</td>     <th>                     </th>     <td> </td>    \n",
       "</tr>\n",
       "<tr>\n",
       "  <th>Covariance Type:</th>        <td>opg</td>       <th>                     </th>     <td> </td>    \n",
       "</tr>\n",
       "</table>\n",
       "<table class=\"simpletable\">\n",
       "<tr>\n",
       "      <td></td>         <th>coef</th>     <th>std err</th>      <th>z</th>      <th>P>|z|</th>  <th>[0.025</th>    <th>0.975]</th>  \n",
       "</tr>\n",
       "<tr>\n",
       "  <th>intercept</th> <td>    0.0095</td> <td>    0.011</td> <td>    0.869</td> <td> 0.385</td> <td>   -0.012</td> <td>    0.031</td>\n",
       "</tr>\n",
       "<tr>\n",
       "  <th>ar.L1</th>     <td>    0.6176</td> <td>    0.030</td> <td>   20.450</td> <td> 0.000</td> <td>    0.558</td> <td>    0.677</td>\n",
       "</tr>\n",
       "<tr>\n",
       "  <th>ar.L2</th>     <td>   -0.3519</td> <td>    0.040</td> <td>   -8.846</td> <td> 0.000</td> <td>   -0.430</td> <td>   -0.274</td>\n",
       "</tr>\n",
       "<tr>\n",
       "  <th>ar.L3</th>     <td>    0.5191</td> <td>    0.038</td> <td>   13.574</td> <td> 0.000</td> <td>    0.444</td> <td>    0.594</td>\n",
       "</tr>\n",
       "<tr>\n",
       "  <th>ar.L4</th>     <td>   -0.8728</td> <td>    0.027</td> <td>  -31.794</td> <td> 0.000</td> <td>   -0.927</td> <td>   -0.819</td>\n",
       "</tr>\n",
       "<tr>\n",
       "  <th>ma.L1</th>     <td>   -0.5970</td> <td>    0.030</td> <td>  -20.230</td> <td> 0.000</td> <td>   -0.655</td> <td>   -0.539</td>\n",
       "</tr>\n",
       "<tr>\n",
       "  <th>ma.L2</th>     <td>    0.3185</td> <td>    0.037</td> <td>    8.588</td> <td> 0.000</td> <td>    0.246</td> <td>    0.391</td>\n",
       "</tr>\n",
       "<tr>\n",
       "  <th>ma.L3</th>     <td>   -0.5338</td> <td>    0.035</td> <td>  -15.097</td> <td> 0.000</td> <td>   -0.603</td> <td>   -0.464</td>\n",
       "</tr>\n",
       "<tr>\n",
       "  <th>ma.L4</th>     <td>    0.8705</td> <td>    0.026</td> <td>   33.615</td> <td> 0.000</td> <td>    0.820</td> <td>    0.921</td>\n",
       "</tr>\n",
       "<tr>\n",
       "  <th>sigma2</th>    <td>    0.6123</td> <td>    0.005</td> <td>  134.515</td> <td> 0.000</td> <td>    0.603</td> <td>    0.621</td>\n",
       "</tr>\n",
       "</table>\n",
       "<table class=\"simpletable\">\n",
       "<tr>\n",
       "  <th>Ljung-Box (L1) (Q):</th>     <td>0.32</td>  <th>  Jarque-Bera (JB):  </th> <td>29430.58</td>\n",
       "</tr>\n",
       "<tr>\n",
       "  <th>Prob(Q):</th>                <td>0.57</td>  <th>  Prob(JB):          </th>   <td>0.00</td>  \n",
       "</tr>\n",
       "<tr>\n",
       "  <th>Heteroskedasticity (H):</th> <td>69.60</td> <th>  Skew:              </th>   <td>-0.09</td> \n",
       "</tr>\n",
       "<tr>\n",
       "  <th>Prob(H) (two-sided):</th>    <td>0.00</td>  <th>  Kurtosis:          </th>   <td>14.08</td> \n",
       "</tr>\n",
       "</table><br/><br/>Warnings:<br/>[1] Covariance matrix calculated using the outer product of gradients (complex-step)."
      ],
      "text/plain": [
       "<class 'statsmodels.iolib.summary.Summary'>\n",
       "\"\"\"\n",
       "                               SARIMAX Results                                \n",
       "==============================================================================\n",
       "Dep. Variable:                      y   No. Observations:                 5749\n",
       "Model:               SARIMAX(4, 1, 4)   Log Likelihood               -6746.785\n",
       "Date:                Tue, 07 Mar 2023   AIC                          13513.570\n",
       "Time:                        15:14:04   BIC                          13580.136\n",
       "Sample:                             0   HQIC                         13536.737\n",
       "                               - 5749                                         \n",
       "Covariance Type:                  opg                                         \n",
       "==============================================================================\n",
       "                 coef    std err          z      P>|z|      [0.025      0.975]\n",
       "------------------------------------------------------------------------------\n",
       "intercept      0.0095      0.011      0.869      0.385      -0.012       0.031\n",
       "ar.L1          0.6176      0.030     20.450      0.000       0.558       0.677\n",
       "ar.L2         -0.3519      0.040     -8.846      0.000      -0.430      -0.274\n",
       "ar.L3          0.5191      0.038     13.574      0.000       0.444       0.594\n",
       "ar.L4         -0.8728      0.027    -31.794      0.000      -0.927      -0.819\n",
       "ma.L1         -0.5970      0.030    -20.230      0.000      -0.655      -0.539\n",
       "ma.L2          0.3185      0.037      8.588      0.000       0.246       0.391\n",
       "ma.L3         -0.5338      0.035    -15.097      0.000      -0.603      -0.464\n",
       "ma.L4          0.8705      0.026     33.615      0.000       0.820       0.921\n",
       "sigma2         0.6123      0.005    134.515      0.000       0.603       0.621\n",
       "===================================================================================\n",
       "Ljung-Box (L1) (Q):                   0.32   Jarque-Bera (JB):             29430.58\n",
       "Prob(Q):                              0.57   Prob(JB):                         0.00\n",
       "Heteroskedasticity (H):              69.60   Skew:                            -0.09\n",
       "Prob(H) (two-sided):                  0.00   Kurtosis:                        14.08\n",
       "===================================================================================\n",
       "\n",
       "Warnings:\n",
       "[1] Covariance matrix calculated using the outer product of gradients (complex-step).\n",
       "\"\"\""
      ]
     },
     "execution_count": 14,
     "metadata": {},
     "output_type": "execute_result"
    }
   ],
   "source": [
    "# HK0027Base = getARIMAmodel(HK0027Train[scope], True) # SARIMAX(4, 1, 4)\n",
    "HK0027Base = pm.ARIMA(order=(4, 1, 4), suppress_warnings=True).fit(HK0027Train[scope])\n",
    "HK0027Base.summary()\n"
   ]
  },
  {
   "cell_type": "code",
   "execution_count": 15,
   "metadata": {},
   "outputs": [
    {
     "name": "stdout",
     "output_type": "stream",
     "text": [
      "MAPE: 0.03943919532206402\n"
     ]
    }
   ],
   "source": [
    "HK0027BFC, HK0027BCI = HK0027Base.predict(n_periods=len(HK0027Test[scope]), return_conf_int=True)\n",
    "HK0027BMAPE = getMAPE(HK0027BFC, HK0027Test[scope])\n",
    "\n",
    "# plotPred(HK0027BFC, HK0027BCI, HK0027Test.index, HK0027[scope])\n",
    "print(f\"MAPE: {HK0027BMAPE}\")\n"
   ]
  },
  {
   "attachments": {},
   "cell_type": "markdown",
   "metadata": {},
   "source": [
    "#### 0101HK\n"
   ]
  },
  {
   "cell_type": "code",
   "execution_count": 16,
   "metadata": {},
   "outputs": [
    {
     "data": {
      "text/html": [
       "<table class=\"simpletable\">\n",
       "<caption>SARIMAX Results</caption>\n",
       "<tr>\n",
       "  <th>Dep. Variable:</th>           <td>y</td>        <th>  No. Observations:  </th>   <td>5749</td>  \n",
       "</tr>\n",
       "<tr>\n",
       "  <th>Model:</th>           <td>SARIMAX(1, 1, 1)</td> <th>  Log Likelihood     </th> <td>-924.512</td>\n",
       "</tr>\n",
       "<tr>\n",
       "  <th>Date:</th>            <td>Tue, 07 Mar 2023</td> <th>  AIC                </th> <td>1857.024</td>\n",
       "</tr>\n",
       "<tr>\n",
       "  <th>Time:</th>                <td>15:14:06</td>     <th>  BIC                </th> <td>1883.651</td>\n",
       "</tr>\n",
       "<tr>\n",
       "  <th>Sample:</th>                  <td>0</td>        <th>  HQIC               </th> <td>1866.291</td>\n",
       "</tr>\n",
       "<tr>\n",
       "  <th></th>                      <td> - 5749</td>     <th>                     </th>     <td> </td>   \n",
       "</tr>\n",
       "<tr>\n",
       "  <th>Covariance Type:</th>        <td>opg</td>       <th>                     </th>     <td> </td>   \n",
       "</tr>\n",
       "</table>\n",
       "<table class=\"simpletable\">\n",
       "<tr>\n",
       "      <td></td>         <th>coef</th>     <th>std err</th>      <th>z</th>      <th>P>|z|</th>  <th>[0.025</th>    <th>0.975]</th>  \n",
       "</tr>\n",
       "<tr>\n",
       "  <th>intercept</th> <td>    0.0002</td> <td>    0.000</td> <td>    0.701</td> <td> 0.483</td> <td>   -0.000</td> <td>    0.001</td>\n",
       "</tr>\n",
       "<tr>\n",
       "  <th>ar.L1</th>     <td>    0.9108</td> <td>    0.032</td> <td>   28.599</td> <td> 0.000</td> <td>    0.848</td> <td>    0.973</td>\n",
       "</tr>\n",
       "<tr>\n",
       "  <th>ma.L1</th>     <td>   -0.9294</td> <td>    0.029</td> <td>  -32.579</td> <td> 0.000</td> <td>   -0.985</td> <td>   -0.873</td>\n",
       "</tr>\n",
       "<tr>\n",
       "  <th>sigma2</th>    <td>    0.0808</td> <td>    0.001</td> <td>   96.876</td> <td> 0.000</td> <td>    0.079</td> <td>    0.082</td>\n",
       "</tr>\n",
       "</table>\n",
       "<table class=\"simpletable\">\n",
       "<tr>\n",
       "  <th>Ljung-Box (L1) (Q):</th>     <td>0.10</td> <th>  Jarque-Bera (JB):  </th> <td>5006.50</td>\n",
       "</tr>\n",
       "<tr>\n",
       "  <th>Prob(Q):</th>                <td>0.75</td> <th>  Prob(JB):          </th>  <td>0.00</td>  \n",
       "</tr>\n",
       "<tr>\n",
       "  <th>Heteroskedasticity (H):</th> <td>4.12</td> <th>  Skew:              </th>  <td>0.06</td>  \n",
       "</tr>\n",
       "<tr>\n",
       "  <th>Prob(H) (two-sided):</th>    <td>0.00</td> <th>  Kurtosis:          </th>  <td>7.57</td>  \n",
       "</tr>\n",
       "</table><br/><br/>Warnings:<br/>[1] Covariance matrix calculated using the outer product of gradients (complex-step)."
      ],
      "text/plain": [
       "<class 'statsmodels.iolib.summary.Summary'>\n",
       "\"\"\"\n",
       "                               SARIMAX Results                                \n",
       "==============================================================================\n",
       "Dep. Variable:                      y   No. Observations:                 5749\n",
       "Model:               SARIMAX(1, 1, 1)   Log Likelihood                -924.512\n",
       "Date:                Tue, 07 Mar 2023   AIC                           1857.024\n",
       "Time:                        15:14:06   BIC                           1883.651\n",
       "Sample:                             0   HQIC                          1866.291\n",
       "                               - 5749                                         \n",
       "Covariance Type:                  opg                                         \n",
       "==============================================================================\n",
       "                 coef    std err          z      P>|z|      [0.025      0.975]\n",
       "------------------------------------------------------------------------------\n",
       "intercept      0.0002      0.000      0.701      0.483      -0.000       0.001\n",
       "ar.L1          0.9108      0.032     28.599      0.000       0.848       0.973\n",
       "ma.L1         -0.9294      0.029    -32.579      0.000      -0.985      -0.873\n",
       "sigma2         0.0808      0.001     96.876      0.000       0.079       0.082\n",
       "===================================================================================\n",
       "Ljung-Box (L1) (Q):                   0.10   Jarque-Bera (JB):              5006.50\n",
       "Prob(Q):                              0.75   Prob(JB):                         0.00\n",
       "Heteroskedasticity (H):               4.12   Skew:                             0.06\n",
       "Prob(H) (two-sided):                  0.00   Kurtosis:                         7.57\n",
       "===================================================================================\n",
       "\n",
       "Warnings:\n",
       "[1] Covariance matrix calculated using the outer product of gradients (complex-step).\n",
       "\"\"\""
      ]
     },
     "execution_count": 16,
     "metadata": {},
     "output_type": "execute_result"
    }
   ],
   "source": [
    "# HK0101Base = getARIMAmodel(HK0101Train[scope], True) # SARIMAX(1, 1, 1)\n",
    "HK0101Base = pm.ARIMA(order=(1, 1, 1), suppress_warnings=True).fit(HK0101Train[scope])\n",
    "HK0101Base.summary()\n"
   ]
  },
  {
   "cell_type": "code",
   "execution_count": 17,
   "metadata": {},
   "outputs": [
    {
     "name": "stdout",
     "output_type": "stream",
     "text": [
      "MAPE: 0.03181780337103085\n"
     ]
    }
   ],
   "source": [
    "HK0101BFC, HK0101BCI = HK0101Base.predict(n_periods=len(HK0101Test[scope]), return_conf_int=True)\n",
    "HK0101BMAPE = getMAPE(HK0101BFC, HK0101Test[scope])\n",
    "\n",
    "# plotPred(HK0101BFC, HK0101BCI, HK0101Test.index, HK0101[scope])\n",
    "print(f\"MAPE: {HK0101BMAPE}\")\n"
   ]
  },
  {
   "attachments": {},
   "cell_type": "markdown",
   "metadata": {},
   "source": [
    "### ARIMA\n"
   ]
  },
  {
   "attachments": {},
   "cell_type": "markdown",
   "metadata": {},
   "source": [
    "#### 0005HK\n"
   ]
  },
  {
   "cell_type": "code",
   "execution_count": 18,
   "metadata": {},
   "outputs": [
    {
     "data": {
      "text/html": [
       "<table class=\"simpletable\">\n",
       "<caption>SARIMAX Results</caption>\n",
       "<tr>\n",
       "  <th>Dep. Variable:</th>           <td>y</td>        <th>  No. Observations:  </th>   <td>5749</td>   \n",
       "</tr>\n",
       "<tr>\n",
       "  <th>Model:</th>           <td>SARIMAX(0, 1, 0)</td> <th>  Log Likelihood     </th> <td>-4431.030</td>\n",
       "</tr>\n",
       "<tr>\n",
       "  <th>Date:</th>            <td>Tue, 07 Mar 2023</td> <th>  AIC                </th> <td>8872.061</td> \n",
       "</tr>\n",
       "<tr>\n",
       "  <th>Time:</th>                <td>15:14:07</td>     <th>  BIC                </th> <td>8905.344</td> \n",
       "</tr>\n",
       "<tr>\n",
       "  <th>Sample:</th>                  <td>0</td>        <th>  HQIC               </th> <td>8883.644</td> \n",
       "</tr>\n",
       "<tr>\n",
       "  <th></th>                      <td> - 5749</td>     <th>                     </th>     <td> </td>    \n",
       "</tr>\n",
       "<tr>\n",
       "  <th>Covariance Type:</th>        <td>opg</td>       <th>                     </th>     <td> </td>    \n",
       "</tr>\n",
       "</table>\n",
       "<table class=\"simpletable\">\n",
       "<tr>\n",
       "      <td></td>         <th>coef</th>     <th>std err</th>      <th>z</th>      <th>P>|z|</th>  <th>[0.025</th>    <th>0.975]</th>  \n",
       "</tr>\n",
       "<tr>\n",
       "  <th>intercept</th> <td>   -0.0013</td> <td>    0.007</td> <td>   -0.188</td> <td> 0.851</td> <td>   -0.015</td> <td>    0.012</td>\n",
       "</tr>\n",
       "<tr>\n",
       "  <th>HSI</th>       <td>    0.0019</td> <td> 1.62e-05</td> <td>  116.450</td> <td> 0.000</td> <td>    0.002</td> <td>    0.002</td>\n",
       "</tr>\n",
       "<tr>\n",
       "  <th>DJI</th>       <td> 6.177e-05</td> <td> 2.66e-05</td> <td>    2.323</td> <td> 0.020</td> <td> 9.64e-06</td> <td>    0.000</td>\n",
       "</tr>\n",
       "<tr>\n",
       "  <th>SSEC</th>      <td>   -0.0015</td> <td>    0.000</td> <td>  -10.113</td> <td> 0.000</td> <td>   -0.002</td> <td>   -0.001</td>\n",
       "</tr>\n",
       "<tr>\n",
       "  <th>sigma2</th>    <td>    0.2736</td> <td>    0.002</td> <td>  134.565</td> <td> 0.000</td> <td>    0.270</td> <td>    0.278</td>\n",
       "</tr>\n",
       "</table>\n",
       "<table class=\"simpletable\">\n",
       "<tr>\n",
       "  <th>Ljung-Box (L1) (Q):</th>     <td>1.16</td> <th>  Jarque-Bera (JB):  </th> <td>39227.76</td>\n",
       "</tr>\n",
       "<tr>\n",
       "  <th>Prob(Q):</th>                <td>0.28</td> <th>  Prob(JB):          </th>   <td>0.00</td>  \n",
       "</tr>\n",
       "<tr>\n",
       "  <th>Heteroskedasticity (H):</th> <td>1.37</td> <th>  Skew:              </th>   <td>-0.36</td> \n",
       "</tr>\n",
       "<tr>\n",
       "  <th>Prob(H) (two-sided):</th>    <td>0.00</td> <th>  Kurtosis:          </th>   <td>15.78</td> \n",
       "</tr>\n",
       "</table><br/><br/>Warnings:<br/>[1] Covariance matrix calculated using the outer product of gradients (complex-step)."
      ],
      "text/plain": [
       "<class 'statsmodels.iolib.summary.Summary'>\n",
       "\"\"\"\n",
       "                               SARIMAX Results                                \n",
       "==============================================================================\n",
       "Dep. Variable:                      y   No. Observations:                 5749\n",
       "Model:               SARIMAX(0, 1, 0)   Log Likelihood               -4431.030\n",
       "Date:                Tue, 07 Mar 2023   AIC                           8872.061\n",
       "Time:                        15:14:07   BIC                           8905.344\n",
       "Sample:                             0   HQIC                          8883.644\n",
       "                               - 5749                                         \n",
       "Covariance Type:                  opg                                         \n",
       "==============================================================================\n",
       "                 coef    std err          z      P>|z|      [0.025      0.975]\n",
       "------------------------------------------------------------------------------\n",
       "intercept     -0.0013      0.007     -0.188      0.851      -0.015       0.012\n",
       "HSI            0.0019   1.62e-05    116.450      0.000       0.002       0.002\n",
       "DJI         6.177e-05   2.66e-05      2.323      0.020    9.64e-06       0.000\n",
       "SSEC          -0.0015      0.000    -10.113      0.000      -0.002      -0.001\n",
       "sigma2         0.2736      0.002    134.565      0.000       0.270       0.278\n",
       "===================================================================================\n",
       "Ljung-Box (L1) (Q):                   1.16   Jarque-Bera (JB):             39227.76\n",
       "Prob(Q):                              0.28   Prob(JB):                         0.00\n",
       "Heteroskedasticity (H):               1.37   Skew:                            -0.36\n",
       "Prob(H) (two-sided):                  0.00   Kurtosis:                        15.78\n",
       "===================================================================================\n",
       "\n",
       "Warnings:\n",
       "[1] Covariance matrix calculated using the outer product of gradients (complex-step).\n",
       "\"\"\""
      ]
     },
     "execution_count": 18,
     "metadata": {},
     "output_type": "execute_result"
    }
   ],
   "source": [
    "# HK0005ARIMA = getARIMAmodel(HK0005Train[scope], HK0005Train[[\"HSI\", \"DJI\", \"SSEC\"]], True) # SARIMAX(0, 1, 0)\n",
    "HK0005ARIMA = pm.ARIMA(order=(0, 1, 0), suppress_warnings=True).fit(HK0005Train[scope], HK0005Train[[\"HSI\", \"DJI\", \"SSEC\"]])\n",
    "HK0005ARIMA.summary()\n"
   ]
  },
  {
   "cell_type": "code",
   "execution_count": 19,
   "metadata": {},
   "outputs": [
    {
     "name": "stdout",
     "output_type": "stream",
     "text": [
      "MAPE: 0.08234194242855716\n"
     ]
    },
    {
     "name": "stderr",
     "output_type": "stream",
     "text": [
      "/home/alex/miniconda3/envs/nppd/lib/python3.10/site-packages/statsmodels/tsa/base/tsa_model.py:834: ValueWarning: No supported index is available. Prediction results will be given with an integer index beginning at `start`.\n",
      "  return get_prediction_index(\n"
     ]
    }
   ],
   "source": [
    "HK0005AFC, HK0005ACI = HK0005ARIMA.predict(n_periods=len(HK0005Test[scope]), X=HK0005Test[[\"HSI\", \"DJI\", \"SSEC\"]], return_conf_int=True)\n",
    "HK0005AMAPE = getMAPE(HK0005AFC, HK0005Test[scope])\n",
    "\n",
    "# plotPred(HK0005AFC, HK0005ACI, HK0005Test.index, HK0005[scope])\n",
    "print(f\"MAPE: {HK0005AMAPE}\")\n"
   ]
  },
  {
   "attachments": {},
   "cell_type": "markdown",
   "metadata": {},
   "source": [
    "#### 0027HK\n"
   ]
  },
  {
   "cell_type": "code",
   "execution_count": 20,
   "metadata": {},
   "outputs": [
    {
     "data": {
      "text/html": [
       "<table class=\"simpletable\">\n",
       "<caption>SARIMAX Results</caption>\n",
       "<tr>\n",
       "  <th>Dep. Variable:</th>           <td>y</td>        <th>  No. Observations:  </th>   <td>5749</td>   \n",
       "</tr>\n",
       "<tr>\n",
       "  <th>Model:</th>           <td>SARIMAX(4, 1, 4)</td> <th>  Log Likelihood     </th> <td>-6103.598</td>\n",
       "</tr>\n",
       "<tr>\n",
       "  <th>Date:</th>            <td>Tue, 07 Mar 2023</td> <th>  AIC                </th> <td>12233.197</td>\n",
       "</tr>\n",
       "<tr>\n",
       "  <th>Time:</th>                <td>15:14:10</td>     <th>  BIC                </th> <td>12319.733</td>\n",
       "</tr>\n",
       "<tr>\n",
       "  <th>Sample:</th>                  <td>0</td>        <th>  HQIC               </th> <td>12263.313</td>\n",
       "</tr>\n",
       "<tr>\n",
       "  <th></th>                      <td> - 5749</td>     <th>                     </th>     <td> </td>    \n",
       "</tr>\n",
       "<tr>\n",
       "  <th>Covariance Type:</th>        <td>opg</td>       <th>                     </th>     <td> </td>    \n",
       "</tr>\n",
       "</table>\n",
       "<table class=\"simpletable\">\n",
       "<tr>\n",
       "      <td></td>         <th>coef</th>     <th>std err</th>      <th>z</th>      <th>P>|z|</th>  <th>[0.025</th>    <th>0.975]</th>  \n",
       "</tr>\n",
       "<tr>\n",
       "  <th>intercept</th> <td>    0.0080</td> <td>    0.008</td> <td>    1.042</td> <td> 0.297</td> <td>   -0.007</td> <td>    0.023</td>\n",
       "</tr>\n",
       "<tr>\n",
       "  <th>HSI</th>       <td>    0.0012</td> <td> 2.65e-05</td> <td>   45.050</td> <td> 0.000</td> <td>    0.001</td> <td>    0.001</td>\n",
       "</tr>\n",
       "<tr>\n",
       "  <th>DJI</th>       <td>    0.0002</td> <td> 3.09e-05</td> <td>    5.598</td> <td> 0.000</td> <td>    0.000</td> <td>    0.000</td>\n",
       "</tr>\n",
       "<tr>\n",
       "  <th>SSEC</th>      <td>   -0.0002</td> <td>    0.000</td> <td>   -0.847</td> <td> 0.397</td> <td>   -0.001</td> <td>    0.000</td>\n",
       "</tr>\n",
       "<tr>\n",
       "  <th>ar.L1</th>     <td>    0.7244</td> <td>    0.108</td> <td>    6.713</td> <td> 0.000</td> <td>    0.513</td> <td>    0.936</td>\n",
       "</tr>\n",
       "<tr>\n",
       "  <th>ar.L2</th>     <td>   -0.7413</td> <td>    0.121</td> <td>   -6.138</td> <td> 0.000</td> <td>   -0.978</td> <td>   -0.505</td>\n",
       "</tr>\n",
       "<tr>\n",
       "  <th>ar.L3</th>     <td>    0.7407</td> <td>    0.087</td> <td>    8.526</td> <td> 0.000</td> <td>    0.570</td> <td>    0.911</td>\n",
       "</tr>\n",
       "<tr>\n",
       "  <th>ar.L4</th>     <td>   -0.6010</td> <td>    0.069</td> <td>   -8.707</td> <td> 0.000</td> <td>   -0.736</td> <td>   -0.466</td>\n",
       "</tr>\n",
       "<tr>\n",
       "  <th>ma.L1</th>     <td>   -0.7101</td> <td>    0.109</td> <td>   -6.513</td> <td> 0.000</td> <td>   -0.924</td> <td>   -0.496</td>\n",
       "</tr>\n",
       "<tr>\n",
       "  <th>ma.L2</th>     <td>    0.6910</td> <td>    0.119</td> <td>    5.828</td> <td> 0.000</td> <td>    0.459</td> <td>    0.923</td>\n",
       "</tr>\n",
       "<tr>\n",
       "  <th>ma.L3</th>     <td>   -0.7505</td> <td>    0.085</td> <td>   -8.841</td> <td> 0.000</td> <td>   -0.917</td> <td>   -0.584</td>\n",
       "</tr>\n",
       "<tr>\n",
       "  <th>ma.L4</th>     <td>    0.5739</td> <td>    0.072</td> <td>    8.006</td> <td> 0.000</td> <td>    0.433</td> <td>    0.714</td>\n",
       "</tr>\n",
       "<tr>\n",
       "  <th>sigma2</th>    <td>    0.4905</td> <td>    0.004</td> <td>  121.272</td> <td> 0.000</td> <td>    0.483</td> <td>    0.498</td>\n",
       "</tr>\n",
       "</table>\n",
       "<table class=\"simpletable\">\n",
       "<tr>\n",
       "  <th>Ljung-Box (L1) (Q):</th>     <td>0.00</td>  <th>  Jarque-Bera (JB):  </th> <td>31071.93</td>\n",
       "</tr>\n",
       "<tr>\n",
       "  <th>Prob(Q):</th>                <td>0.99</td>  <th>  Prob(JB):          </th>   <td>0.00</td>  \n",
       "</tr>\n",
       "<tr>\n",
       "  <th>Heteroskedasticity (H):</th> <td>15.65</td> <th>  Skew:              </th>   <td>-0.12</td> \n",
       "</tr>\n",
       "<tr>\n",
       "  <th>Prob(H) (two-sided):</th>    <td>0.00</td>  <th>  Kurtosis:          </th>   <td>14.39</td> \n",
       "</tr>\n",
       "</table><br/><br/>Warnings:<br/>[1] Covariance matrix calculated using the outer product of gradients (complex-step)."
      ],
      "text/plain": [
       "<class 'statsmodels.iolib.summary.Summary'>\n",
       "\"\"\"\n",
       "                               SARIMAX Results                                \n",
       "==============================================================================\n",
       "Dep. Variable:                      y   No. Observations:                 5749\n",
       "Model:               SARIMAX(4, 1, 4)   Log Likelihood               -6103.598\n",
       "Date:                Tue, 07 Mar 2023   AIC                          12233.197\n",
       "Time:                        15:14:10   BIC                          12319.733\n",
       "Sample:                             0   HQIC                         12263.313\n",
       "                               - 5749                                         \n",
       "Covariance Type:                  opg                                         \n",
       "==============================================================================\n",
       "                 coef    std err          z      P>|z|      [0.025      0.975]\n",
       "------------------------------------------------------------------------------\n",
       "intercept      0.0080      0.008      1.042      0.297      -0.007       0.023\n",
       "HSI            0.0012   2.65e-05     45.050      0.000       0.001       0.001\n",
       "DJI            0.0002   3.09e-05      5.598      0.000       0.000       0.000\n",
       "SSEC          -0.0002      0.000     -0.847      0.397      -0.001       0.000\n",
       "ar.L1          0.7244      0.108      6.713      0.000       0.513       0.936\n",
       "ar.L2         -0.7413      0.121     -6.138      0.000      -0.978      -0.505\n",
       "ar.L3          0.7407      0.087      8.526      0.000       0.570       0.911\n",
       "ar.L4         -0.6010      0.069     -8.707      0.000      -0.736      -0.466\n",
       "ma.L1         -0.7101      0.109     -6.513      0.000      -0.924      -0.496\n",
       "ma.L2          0.6910      0.119      5.828      0.000       0.459       0.923\n",
       "ma.L3         -0.7505      0.085     -8.841      0.000      -0.917      -0.584\n",
       "ma.L4          0.5739      0.072      8.006      0.000       0.433       0.714\n",
       "sigma2         0.4905      0.004    121.272      0.000       0.483       0.498\n",
       "===================================================================================\n",
       "Ljung-Box (L1) (Q):                   0.00   Jarque-Bera (JB):             31071.93\n",
       "Prob(Q):                              0.99   Prob(JB):                         0.00\n",
       "Heteroskedasticity (H):              15.65   Skew:                            -0.12\n",
       "Prob(H) (two-sided):                  0.00   Kurtosis:                        14.39\n",
       "===================================================================================\n",
       "\n",
       "Warnings:\n",
       "[1] Covariance matrix calculated using the outer product of gradients (complex-step).\n",
       "\"\"\""
      ]
     },
     "execution_count": 20,
     "metadata": {},
     "output_type": "execute_result"
    }
   ],
   "source": [
    "# HK0027ARIMA = getARIMAmodel(HK0027Train[scope], HK0027Train[[\"HSI\", \"DJI\", \"SSEC\"]], True) # SARIMAX(4, 1, 4)\n",
    "HK0027ARIMA = pm.ARIMA(order=(4, 1, 4), suppress_warnings=True).fit(HK0027Train[scope], HK0027Train[[\"HSI\", \"DJI\", \"SSEC\"]])\n",
    "HK0027ARIMA.summary()\n"
   ]
  },
  {
   "cell_type": "code",
   "execution_count": 21,
   "metadata": {},
   "outputs": [
    {
     "name": "stdout",
     "output_type": "stream",
     "text": [
      "MAPE: 0.013883391284935067\n"
     ]
    },
    {
     "name": "stderr",
     "output_type": "stream",
     "text": [
      "/home/alex/miniconda3/envs/nppd/lib/python3.10/site-packages/statsmodels/tsa/base/tsa_model.py:834: ValueWarning: No supported index is available. Prediction results will be given with an integer index beginning at `start`.\n",
      "  return get_prediction_index(\n"
     ]
    }
   ],
   "source": [
    "HK0027AFC, HK0027ACI = HK0027ARIMA.predict(n_periods=len(HK0027Test[scope]), X=HK0027Test[[\"HSI\", \"DJI\", \"SSEC\"]], return_conf_int=True)\n",
    "HK0027AMAPE = getMAPE(HK0027AFC, HK0027Test[scope])\n",
    "\n",
    "# plotPred(HK0027AFC, HK0027ACI, HK0027Test.index, HK0027[scope])\n",
    "print(f\"MAPE: {HK0027AMAPE}\")\n"
   ]
  },
  {
   "attachments": {},
   "cell_type": "markdown",
   "metadata": {},
   "source": [
    "#### 0101HK\n"
   ]
  },
  {
   "cell_type": "code",
   "execution_count": 22,
   "metadata": {},
   "outputs": [
    {
     "data": {
      "text/html": [
       "<table class=\"simpletable\">\n",
       "<caption>SARIMAX Results</caption>\n",
       "<tr>\n",
       "  <th>Dep. Variable:</th>           <td>y</td>        <th>  No. Observations:  </th>   <td>5749</td>  \n",
       "</tr>\n",
       "<tr>\n",
       "  <th>Model:</th>           <td>SARIMAX(4, 1, 4)</td> <th>  Log Likelihood     </th>  <td>477.788</td>\n",
       "</tr>\n",
       "<tr>\n",
       "  <th>Date:</th>            <td>Tue, 07 Mar 2023</td> <th>  AIC                </th> <td>-929.577</td>\n",
       "</tr>\n",
       "<tr>\n",
       "  <th>Time:</th>                <td>15:14:15</td>     <th>  BIC                </th> <td>-843.041</td>\n",
       "</tr>\n",
       "<tr>\n",
       "  <th>Sample:</th>                  <td>0</td>        <th>  HQIC               </th> <td>-899.461</td>\n",
       "</tr>\n",
       "<tr>\n",
       "  <th></th>                      <td> - 5749</td>     <th>                     </th>     <td> </td>   \n",
       "</tr>\n",
       "<tr>\n",
       "  <th>Covariance Type:</th>        <td>opg</td>       <th>                     </th>     <td> </td>   \n",
       "</tr>\n",
       "</table>\n",
       "<table class=\"simpletable\">\n",
       "<tr>\n",
       "      <td></td>         <th>coef</th>     <th>std err</th>      <th>z</th>      <th>P>|z|</th>  <th>[0.025</th>    <th>0.975]</th>  \n",
       "</tr>\n",
       "<tr>\n",
       "  <th>intercept</th> <td>    0.0002</td> <td>    0.000</td> <td>    1.019</td> <td> 0.308</td> <td>   -0.000</td> <td>    0.001</td>\n",
       "</tr>\n",
       "<tr>\n",
       "  <th>HSI</th>       <td>    0.0006</td> <td> 8.01e-06</td> <td>   73.551</td> <td> 0.000</td> <td>    0.001</td> <td>    0.001</td>\n",
       "</tr>\n",
       "<tr>\n",
       "  <th>DJI</th>       <td>-9.422e-06</td> <td> 1.33e-05</td> <td>   -0.710</td> <td> 0.478</td> <td>-3.54e-05</td> <td> 1.66e-05</td>\n",
       "</tr>\n",
       "<tr>\n",
       "  <th>SSEC</th>      <td>    0.0002</td> <td> 5.86e-05</td> <td>    3.830</td> <td> 0.000</td> <td>    0.000</td> <td>    0.000</td>\n",
       "</tr>\n",
       "<tr>\n",
       "  <th>ar.L1</th>     <td>   -0.0124</td> <td>    0.377</td> <td>   -0.033</td> <td> 0.974</td> <td>   -0.752</td> <td>    0.727</td>\n",
       "</tr>\n",
       "<tr>\n",
       "  <th>ar.L2</th>     <td>    0.5067</td> <td>    0.358</td> <td>    1.416</td> <td> 0.157</td> <td>   -0.195</td> <td>    1.208</td>\n",
       "</tr>\n",
       "<tr>\n",
       "  <th>ar.L3</th>     <td>    0.2756</td> <td>    0.423</td> <td>    0.651</td> <td> 0.515</td> <td>   -0.554</td> <td>    1.105</td>\n",
       "</tr>\n",
       "<tr>\n",
       "  <th>ar.L4</th>     <td>    0.1109</td> <td>    0.226</td> <td>    0.491</td> <td> 0.624</td> <td>   -0.332</td> <td>    0.554</td>\n",
       "</tr>\n",
       "<tr>\n",
       "  <th>ma.L1</th>     <td>   -0.0579</td> <td>    0.377</td> <td>   -0.153</td> <td> 0.878</td> <td>   -0.797</td> <td>    0.682</td>\n",
       "</tr>\n",
       "<tr>\n",
       "  <th>ma.L2</th>     <td>   -0.5484</td> <td>    0.375</td> <td>   -1.464</td> <td> 0.143</td> <td>   -1.283</td> <td>    0.186</td>\n",
       "</tr>\n",
       "<tr>\n",
       "  <th>ma.L3</th>     <td>   -0.2533</td> <td>    0.438</td> <td>   -0.578</td> <td> 0.563</td> <td>   -1.112</td> <td>    0.606</td>\n",
       "</tr>\n",
       "<tr>\n",
       "  <th>ma.L4</th>     <td>   -0.0768</td> <td>    0.244</td> <td>   -0.315</td> <td> 0.753</td> <td>   -0.555</td> <td>    0.401</td>\n",
       "</tr>\n",
       "<tr>\n",
       "  <th>sigma2</th>    <td>    0.0497</td> <td>    0.001</td> <td>   92.011</td> <td> 0.000</td> <td>    0.049</td> <td>    0.051</td>\n",
       "</tr>\n",
       "</table>\n",
       "<table class=\"simpletable\">\n",
       "<tr>\n",
       "  <th>Ljung-Box (L1) (Q):</th>     <td>0.00</td> <th>  Jarque-Bera (JB):  </th> <td>4471.08</td>\n",
       "</tr>\n",
       "<tr>\n",
       "  <th>Prob(Q):</th>                <td>0.98</td> <th>  Prob(JB):          </th>  <td>0.00</td>  \n",
       "</tr>\n",
       "<tr>\n",
       "  <th>Heteroskedasticity (H):</th> <td>3.01</td> <th>  Skew:              </th>  <td>0.02</td>  \n",
       "</tr>\n",
       "<tr>\n",
       "  <th>Prob(H) (two-sided):</th>    <td>0.00</td> <th>  Kurtosis:          </th>  <td>7.32</td>  \n",
       "</tr>\n",
       "</table><br/><br/>Warnings:<br/>[1] Covariance matrix calculated using the outer product of gradients (complex-step)."
      ],
      "text/plain": [
       "<class 'statsmodels.iolib.summary.Summary'>\n",
       "\"\"\"\n",
       "                               SARIMAX Results                                \n",
       "==============================================================================\n",
       "Dep. Variable:                      y   No. Observations:                 5749\n",
       "Model:               SARIMAX(4, 1, 4)   Log Likelihood                 477.788\n",
       "Date:                Tue, 07 Mar 2023   AIC                           -929.577\n",
       "Time:                        15:14:15   BIC                           -843.041\n",
       "Sample:                             0   HQIC                          -899.461\n",
       "                               - 5749                                         \n",
       "Covariance Type:                  opg                                         \n",
       "==============================================================================\n",
       "                 coef    std err          z      P>|z|      [0.025      0.975]\n",
       "------------------------------------------------------------------------------\n",
       "intercept      0.0002      0.000      1.019      0.308      -0.000       0.001\n",
       "HSI            0.0006   8.01e-06     73.551      0.000       0.001       0.001\n",
       "DJI        -9.422e-06   1.33e-05     -0.710      0.478   -3.54e-05    1.66e-05\n",
       "SSEC           0.0002   5.86e-05      3.830      0.000       0.000       0.000\n",
       "ar.L1         -0.0124      0.377     -0.033      0.974      -0.752       0.727\n",
       "ar.L2          0.5067      0.358      1.416      0.157      -0.195       1.208\n",
       "ar.L3          0.2756      0.423      0.651      0.515      -0.554       1.105\n",
       "ar.L4          0.1109      0.226      0.491      0.624      -0.332       0.554\n",
       "ma.L1         -0.0579      0.377     -0.153      0.878      -0.797       0.682\n",
       "ma.L2         -0.5484      0.375     -1.464      0.143      -1.283       0.186\n",
       "ma.L3         -0.2533      0.438     -0.578      0.563      -1.112       0.606\n",
       "ma.L4         -0.0768      0.244     -0.315      0.753      -0.555       0.401\n",
       "sigma2         0.0497      0.001     92.011      0.000       0.049       0.051\n",
       "===================================================================================\n",
       "Ljung-Box (L1) (Q):                   0.00   Jarque-Bera (JB):              4471.08\n",
       "Prob(Q):                              0.98   Prob(JB):                         0.00\n",
       "Heteroskedasticity (H):               3.01   Skew:                             0.02\n",
       "Prob(H) (two-sided):                  0.00   Kurtosis:                         7.32\n",
       "===================================================================================\n",
       "\n",
       "Warnings:\n",
       "[1] Covariance matrix calculated using the outer product of gradients (complex-step).\n",
       "\"\"\""
      ]
     },
     "execution_count": 22,
     "metadata": {},
     "output_type": "execute_result"
    }
   ],
   "source": [
    "# HK0101ARIMA = getARIMAmodel(HK0101Train[scope], HK0101Train[[\"HSI\", \"DJI\", \"SSEC\"]], True) # SARIMAX(4, 1, 4)\n",
    "HK0101ARIMA = pm.ARIMA(order=(4, 1, 4), suppress_warnings=True).fit(HK0101Train[scope], HK0101Train[[\"HSI\", \"DJI\", \"SSEC\"]])\n",
    "HK0101ARIMA.summary()\n"
   ]
  },
  {
   "cell_type": "code",
   "execution_count": 23,
   "metadata": {},
   "outputs": [
    {
     "name": "stdout",
     "output_type": "stream",
     "text": [
      "MAPE: 0.05127126885550437\n"
     ]
    },
    {
     "name": "stderr",
     "output_type": "stream",
     "text": [
      "/home/alex/miniconda3/envs/nppd/lib/python3.10/site-packages/statsmodels/tsa/base/tsa_model.py:834: ValueWarning: No supported index is available. Prediction results will be given with an integer index beginning at `start`.\n",
      "  return get_prediction_index(\n"
     ]
    }
   ],
   "source": [
    "HK0101AFC, HK0101ACI = HK0101ARIMA.predict(n_periods=len(HK0101Test[scope]), X=HK0101Test[[\"HSI\", \"DJI\", \"SSEC\"]], return_conf_int=True)\n",
    "HK0101AMAPE = getMAPE(HK0101AFC, HK0101Test[scope])\n",
    "\n",
    "# plotPred(HK0101AFC, HK0101ACI, HK0101Test.index, HK0101[scope])\n",
    "print(f\"MAPE: {HK0101AMAPE}\")\n"
   ]
  },
  {
   "attachments": {},
   "cell_type": "markdown",
   "metadata": {},
   "source": [
    "### SARIMA\n"
   ]
  },
  {
   "attachments": {},
   "cell_type": "markdown",
   "metadata": {},
   "source": [
    "#### 0005HK\n"
   ]
  },
  {
   "cell_type": "code",
   "execution_count": 24,
   "metadata": {},
   "outputs": [
    {
     "data": {
      "text/html": [
       "<table class=\"simpletable\">\n",
       "<caption>SARIMAX Results</caption>\n",
       "<tr>\n",
       "  <th>Dep. Variable:</th>                   <td>y</td>                <th>  No. Observations:  </th>   <td>5749</td>   \n",
       "</tr>\n",
       "<tr>\n",
       "  <th>Model:</th>           <td>SARIMAX(1, 0, 0)x(1, 1, [1], 12)</td> <th>  Log Likelihood     </th> <td>-5062.256</td>\n",
       "</tr>\n",
       "<tr>\n",
       "  <th>Date:</th>                    <td>Tue, 07 Mar 2023</td>         <th>  AIC                </th> <td>10140.512</td>\n",
       "</tr>\n",
       "<tr>\n",
       "  <th>Time:</th>                        <td>15:15:05</td>             <th>  BIC                </th> <td>10193.750</td>\n",
       "</tr>\n",
       "<tr>\n",
       "  <th>Sample:</th>                          <td>0</td>                <th>  HQIC               </th> <td>10159.042</td>\n",
       "</tr>\n",
       "<tr>\n",
       "  <th></th>                              <td> - 5749</td>             <th>                     </th>     <td> </td>    \n",
       "</tr>\n",
       "<tr>\n",
       "  <th>Covariance Type:</th>                <td>opg</td>               <th>                     </th>     <td> </td>    \n",
       "</tr>\n",
       "</table>\n",
       "<table class=\"simpletable\">\n",
       "<tr>\n",
       "      <td></td>         <th>coef</th>     <th>std err</th>      <th>z</th>      <th>P>|z|</th>  <th>[0.025</th>    <th>0.975]</th>  \n",
       "</tr>\n",
       "<tr>\n",
       "  <th>intercept</th> <td>    0.0177</td> <td>    0.002</td> <td>    8.813</td> <td> 0.000</td> <td>    0.014</td> <td>    0.022</td>\n",
       "</tr>\n",
       "<tr>\n",
       "  <th>HSI</th>       <td>    0.0019</td> <td> 1.63e-05</td> <td>  117.929</td> <td> 0.000</td> <td>    0.002</td> <td>    0.002</td>\n",
       "</tr>\n",
       "<tr>\n",
       "  <th>DJI</th>       <td> 8.949e-05</td> <td> 2.61e-05</td> <td>    3.435</td> <td> 0.001</td> <td> 3.84e-05</td> <td>    0.000</td>\n",
       "</tr>\n",
       "<tr>\n",
       "  <th>SSEC</th>      <td>   -0.0020</td> <td>    0.000</td> <td>  -14.689</td> <td> 0.000</td> <td>   -0.002</td> <td>   -0.002</td>\n",
       "</tr>\n",
       "<tr>\n",
       "  <th>ar.L1</th>     <td>    0.9341</td> <td>    0.002</td> <td>  515.765</td> <td> 0.000</td> <td>    0.931</td> <td>    0.938</td>\n",
       "</tr>\n",
       "<tr>\n",
       "  <th>ar.S.L12</th>  <td>   -0.0965</td> <td>    0.010</td> <td>   -9.241</td> <td> 0.000</td> <td>   -0.117</td> <td>   -0.076</td>\n",
       "</tr>\n",
       "<tr>\n",
       "  <th>ma.S.L12</th>  <td>   -0.7329</td> <td>    0.008</td> <td>  -90.260</td> <td> 0.000</td> <td>   -0.749</td> <td>   -0.717</td>\n",
       "</tr>\n",
       "<tr>\n",
       "  <th>sigma2</th>    <td>    0.3052</td> <td>    0.003</td> <td>  121.567</td> <td> 0.000</td> <td>    0.300</td> <td>    0.310</td>\n",
       "</tr>\n",
       "</table>\n",
       "<table class=\"simpletable\">\n",
       "<tr>\n",
       "  <th>Ljung-Box (L1) (Q):</th>     <td>92.95</td> <th>  Jarque-Bera (JB):  </th> <td>26539.85</td>\n",
       "</tr>\n",
       "<tr>\n",
       "  <th>Prob(Q):</th>                <td>0.00</td>  <th>  Prob(JB):          </th>   <td>0.00</td>  \n",
       "</tr>\n",
       "<tr>\n",
       "  <th>Heteroskedasticity (H):</th> <td>1.41</td>  <th>  Skew:              </th>   <td>-0.57</td> \n",
       "</tr>\n",
       "<tr>\n",
       "  <th>Prob(H) (two-sided):</th>    <td>0.00</td>  <th>  Kurtosis:          </th>   <td>13.48</td> \n",
       "</tr>\n",
       "</table><br/><br/>Warnings:<br/>[1] Covariance matrix calculated using the outer product of gradients (complex-step)."
      ],
      "text/plain": [
       "<class 'statsmodels.iolib.summary.Summary'>\n",
       "\"\"\"\n",
       "                                      SARIMAX Results                                       \n",
       "============================================================================================\n",
       "Dep. Variable:                                    y   No. Observations:                 5749\n",
       "Model:             SARIMAX(1, 0, 0)x(1, 1, [1], 12)   Log Likelihood               -5062.256\n",
       "Date:                              Tue, 07 Mar 2023   AIC                          10140.512\n",
       "Time:                                      15:15:05   BIC                          10193.750\n",
       "Sample:                                           0   HQIC                         10159.042\n",
       "                                             - 5749                                         \n",
       "Covariance Type:                                opg                                         \n",
       "==============================================================================\n",
       "                 coef    std err          z      P>|z|      [0.025      0.975]\n",
       "------------------------------------------------------------------------------\n",
       "intercept      0.0177      0.002      8.813      0.000       0.014       0.022\n",
       "HSI            0.0019   1.63e-05    117.929      0.000       0.002       0.002\n",
       "DJI         8.949e-05   2.61e-05      3.435      0.001    3.84e-05       0.000\n",
       "SSEC          -0.0020      0.000    -14.689      0.000      -0.002      -0.002\n",
       "ar.L1          0.9341      0.002    515.765      0.000       0.931       0.938\n",
       "ar.S.L12      -0.0965      0.010     -9.241      0.000      -0.117      -0.076\n",
       "ma.S.L12      -0.7329      0.008    -90.260      0.000      -0.749      -0.717\n",
       "sigma2         0.3052      0.003    121.567      0.000       0.300       0.310\n",
       "===================================================================================\n",
       "Ljung-Box (L1) (Q):                  92.95   Jarque-Bera (JB):             26539.85\n",
       "Prob(Q):                              0.00   Prob(JB):                         0.00\n",
       "Heteroskedasticity (H):               1.41   Skew:                            -0.57\n",
       "Prob(H) (two-sided):                  0.00   Kurtosis:                        13.48\n",
       "===================================================================================\n",
       "\n",
       "Warnings:\n",
       "[1] Covariance matrix calculated using the outer product of gradients (complex-step).\n",
       "\"\"\""
      ]
     },
     "execution_count": 24,
     "metadata": {},
     "output_type": "execute_result"
    }
   ],
   "source": [
    "# HK0005SARIMA = getSARIMAmodel(HK0005Train[scope], HK0005Train[[\"HSI\", \"DJI\", \"SSEC\"]], True) # SARIMAX(1, 0, 0)x(1, 1, [1], 12)\n",
    "HK0005SARIMA = pm.ARIMA(order=(1, 0, 0), seasonal_order=(1, 1, 1, 12), suppress_warnings=True).fit(HK0005Train[scope], HK0005Train[[\"HSI\", \"DJI\", \"SSEC\"]])\n",
    "HK0005SARIMA.summary()\n"
   ]
  },
  {
   "cell_type": "code",
   "execution_count": 25,
   "metadata": {},
   "outputs": [
    {
     "name": "stdout",
     "output_type": "stream",
     "text": [
      "MAPE: 0.07463882272121612\n"
     ]
    },
    {
     "name": "stderr",
     "output_type": "stream",
     "text": [
      "/home/alex/miniconda3/envs/nppd/lib/python3.10/site-packages/statsmodels/tsa/base/tsa_model.py:834: ValueWarning: No supported index is available. Prediction results will be given with an integer index beginning at `start`.\n",
      "  return get_prediction_index(\n"
     ]
    }
   ],
   "source": [
    "HK0005SFC, HK0005SCI = HK0005SARIMA.predict(n_periods=len(HK0005Test[scope]), X=HK0005Test[[\"HSI\", \"DJI\", \"SSEC\"]], return_conf_int=True)\n",
    "HK0005SMAPE = getMAPE(HK0005SFC, HK0005Test[scope])\n",
    "\n",
    "# plotPred(HK0005SFC, HK0005SCI, HK0005Test.index, HK0005[scope])\n",
    "print(f\"MAPE: {HK0005SMAPE}\")\n"
   ]
  },
  {
   "attachments": {},
   "cell_type": "markdown",
   "metadata": {},
   "source": [
    "#### 0027HK\n"
   ]
  },
  {
   "cell_type": "code",
   "execution_count": 26,
   "metadata": {},
   "outputs": [
    {
     "data": {
      "text/html": [
       "<table class=\"simpletable\">\n",
       "<caption>SARIMAX Results</caption>\n",
       "<tr>\n",
       "  <th>Dep. Variable:</th>                  <td>y</td>               <th>  No. Observations:  </th>   <td>5749</td>   \n",
       "</tr>\n",
       "<tr>\n",
       "  <th>Model:</th>           <td>SARIMAX(2, 0, 2)x(1, 1, 2, 12)</td> <th>  Log Likelihood     </th> <td>-6576.350</td>\n",
       "</tr>\n",
       "<tr>\n",
       "  <th>Date:</th>                   <td>Tue, 07 Mar 2023</td>        <th>  AIC                </th> <td>13176.700</td>\n",
       "</tr>\n",
       "<tr>\n",
       "  <th>Time:</th>                       <td>15:16:42</td>            <th>  BIC                </th> <td>13256.557</td>\n",
       "</tr>\n",
       "<tr>\n",
       "  <th>Sample:</th>                         <td>0</td>               <th>  HQIC               </th> <td>13204.495</td>\n",
       "</tr>\n",
       "<tr>\n",
       "  <th></th>                             <td> - 5749</td>            <th>                     </th>     <td> </td>    \n",
       "</tr>\n",
       "<tr>\n",
       "  <th>Covariance Type:</th>               <td>opg</td>              <th>                     </th>     <td> </td>    \n",
       "</tr>\n",
       "</table>\n",
       "<table class=\"simpletable\">\n",
       "<tr>\n",
       "      <td></td>         <th>coef</th>     <th>std err</th>      <th>z</th>      <th>P>|z|</th>  <th>[0.025</th>    <th>0.975]</th>  \n",
       "</tr>\n",
       "<tr>\n",
       "  <th>intercept</th> <td>   -0.0109</td> <td>    0.004</td> <td>   -2.972</td> <td> 0.003</td> <td>   -0.018</td> <td>   -0.004</td>\n",
       "</tr>\n",
       "<tr>\n",
       "  <th>HSI</th>       <td>    0.0012</td> <td> 2.77e-05</td> <td>   44.445</td> <td> 0.000</td> <td>    0.001</td> <td>    0.001</td>\n",
       "</tr>\n",
       "<tr>\n",
       "  <th>DJI</th>       <td>    0.0002</td> <td> 3.23e-05</td> <td>    7.005</td> <td> 0.000</td> <td>    0.000</td> <td>    0.000</td>\n",
       "</tr>\n",
       "<tr>\n",
       "  <th>SSEC</th>      <td>   -0.0008</td> <td>    0.000</td> <td>   -3.890</td> <td> 0.000</td> <td>   -0.001</td> <td>   -0.000</td>\n",
       "</tr>\n",
       "<tr>\n",
       "  <th>ar.L1</th>     <td>    0.7607</td> <td>    0.062</td> <td>   12.343</td> <td> 0.000</td> <td>    0.640</td> <td>    0.882</td>\n",
       "</tr>\n",
       "<tr>\n",
       "  <th>ar.L2</th>     <td>    0.1602</td> <td>    0.058</td> <td>    2.747</td> <td> 0.006</td> <td>    0.046</td> <td>    0.275</td>\n",
       "</tr>\n",
       "<tr>\n",
       "  <th>ma.L1</th>     <td>    0.2630</td> <td>    0.060</td> <td>    4.408</td> <td> 0.000</td> <td>    0.146</td> <td>    0.380</td>\n",
       "</tr>\n",
       "<tr>\n",
       "  <th>ma.L2</th>     <td>    0.1472</td> <td>    0.009</td> <td>   16.106</td> <td> 0.000</td> <td>    0.129</td> <td>    0.165</td>\n",
       "</tr>\n",
       "<tr>\n",
       "  <th>ar.S.L12</th>  <td>   -0.4788</td> <td>    0.205</td> <td>   -2.339</td> <td> 0.019</td> <td>   -0.880</td> <td>   -0.078</td>\n",
       "</tr>\n",
       "<tr>\n",
       "  <th>ma.S.L12</th>  <td>   -0.3468</td> <td>    0.202</td> <td>   -1.716</td> <td> 0.086</td> <td>   -0.743</td> <td>    0.049</td>\n",
       "</tr>\n",
       "<tr>\n",
       "  <th>ma.S.L24</th>  <td>   -0.4355</td> <td>    0.170</td> <td>   -2.555</td> <td> 0.011</td> <td>   -0.770</td> <td>   -0.101</td>\n",
       "</tr>\n",
       "<tr>\n",
       "  <th>sigma2</th>    <td>    0.5562</td> <td>    0.005</td> <td>  112.808</td> <td> 0.000</td> <td>    0.547</td> <td>    0.566</td>\n",
       "</tr>\n",
       "</table>\n",
       "<table class=\"simpletable\">\n",
       "<tr>\n",
       "  <th>Ljung-Box (L1) (Q):</th>     <td>9.72</td>  <th>  Jarque-Bera (JB):  </th> <td>24331.03</td>\n",
       "</tr>\n",
       "<tr>\n",
       "  <th>Prob(Q):</th>                <td>0.00</td>  <th>  Prob(JB):          </th>   <td>0.00</td>  \n",
       "</tr>\n",
       "<tr>\n",
       "  <th>Heteroskedasticity (H):</th> <td>14.53</td> <th>  Skew:              </th>   <td>0.10</td>  \n",
       "</tr>\n",
       "<tr>\n",
       "  <th>Prob(H) (two-sided):</th>    <td>0.00</td>  <th>  Kurtosis:          </th>   <td>13.09</td> \n",
       "</tr>\n",
       "</table><br/><br/>Warnings:<br/>[1] Covariance matrix calculated using the outer product of gradients (complex-step)."
      ],
      "text/plain": [
       "<class 'statsmodels.iolib.summary.Summary'>\n",
       "\"\"\"\n",
       "                                     SARIMAX Results                                      \n",
       "==========================================================================================\n",
       "Dep. Variable:                                  y   No. Observations:                 5749\n",
       "Model:             SARIMAX(2, 0, 2)x(1, 1, 2, 12)   Log Likelihood               -6576.350\n",
       "Date:                            Tue, 07 Mar 2023   AIC                          13176.700\n",
       "Time:                                    15:16:42   BIC                          13256.557\n",
       "Sample:                                         0   HQIC                         13204.495\n",
       "                                           - 5749                                         \n",
       "Covariance Type:                              opg                                         \n",
       "==============================================================================\n",
       "                 coef    std err          z      P>|z|      [0.025      0.975]\n",
       "------------------------------------------------------------------------------\n",
       "intercept     -0.0109      0.004     -2.972      0.003      -0.018      -0.004\n",
       "HSI            0.0012   2.77e-05     44.445      0.000       0.001       0.001\n",
       "DJI            0.0002   3.23e-05      7.005      0.000       0.000       0.000\n",
       "SSEC          -0.0008      0.000     -3.890      0.000      -0.001      -0.000\n",
       "ar.L1          0.7607      0.062     12.343      0.000       0.640       0.882\n",
       "ar.L2          0.1602      0.058      2.747      0.006       0.046       0.275\n",
       "ma.L1          0.2630      0.060      4.408      0.000       0.146       0.380\n",
       "ma.L2          0.1472      0.009     16.106      0.000       0.129       0.165\n",
       "ar.S.L12      -0.4788      0.205     -2.339      0.019      -0.880      -0.078\n",
       "ma.S.L12      -0.3468      0.202     -1.716      0.086      -0.743       0.049\n",
       "ma.S.L24      -0.4355      0.170     -2.555      0.011      -0.770      -0.101\n",
       "sigma2         0.5562      0.005    112.808      0.000       0.547       0.566\n",
       "===================================================================================\n",
       "Ljung-Box (L1) (Q):                   9.72   Jarque-Bera (JB):             24331.03\n",
       "Prob(Q):                              0.00   Prob(JB):                         0.00\n",
       "Heteroskedasticity (H):              14.53   Skew:                             0.10\n",
       "Prob(H) (two-sided):                  0.00   Kurtosis:                        13.09\n",
       "===================================================================================\n",
       "\n",
       "Warnings:\n",
       "[1] Covariance matrix calculated using the outer product of gradients (complex-step).\n",
       "\"\"\""
      ]
     },
     "execution_count": 26,
     "metadata": {},
     "output_type": "execute_result"
    }
   ],
   "source": [
    "# HK0027SARIMA = getSARIMAmodel(HK0027Train[scope], HK0027Train[[\"HSI\", \"DJI\", \"SSEC\"]], True) # SARIMAX(2, 0, 2)x(1, 1, 2, 12)\n",
    "HK0027SARIMA = pm.ARIMA(order=(2, 0, 2), seasonal_order=(1, 1, 2, 12), suppress_warnings=True).fit(HK0027Train[scope], HK0027Train[[\"HSI\", \"DJI\", \"SSEC\"]])\n",
    "HK0027SARIMA.summary()\n"
   ]
  },
  {
   "cell_type": "code",
   "execution_count": 27,
   "metadata": {},
   "outputs": [
    {
     "name": "stdout",
     "output_type": "stream",
     "text": [
      "MAPE: 0.0569654529715583\n"
     ]
    },
    {
     "name": "stderr",
     "output_type": "stream",
     "text": [
      "/home/alex/miniconda3/envs/nppd/lib/python3.10/site-packages/statsmodels/tsa/base/tsa_model.py:834: ValueWarning: No supported index is available. Prediction results will be given with an integer index beginning at `start`.\n",
      "  return get_prediction_index(\n"
     ]
    }
   ],
   "source": [
    "HK0027SFC, HK0027SCI = HK0027SARIMA.predict(n_periods=len(HK0027Test[scope]), X=HK0027Test[[\"HSI\", \"DJI\", \"SSEC\"]], return_conf_int=True)\n",
    "HK0027SMAPE = getMAPE(HK0027SFC, HK0027Test[scope])\n",
    "\n",
    "# plotPred(HK0027SFC, HK0027SCI, HK0027Test.index, HK0027[scope])\n",
    "print(f\"MAPE: {HK0027SMAPE}\")\n"
   ]
  },
  {
   "attachments": {},
   "cell_type": "markdown",
   "metadata": {},
   "source": [
    "#### 0101HK\n"
   ]
  },
  {
   "cell_type": "code",
   "execution_count": 28,
   "metadata": {},
   "outputs": [
    {
     "data": {
      "text/html": [
       "<table class=\"simpletable\">\n",
       "<caption>SARIMAX Results</caption>\n",
       "<tr>\n",
       "  <th>Dep. Variable:</th>                    <td>y</td>                  <th>  No. Observations:  </th>   <td>5749</td>  \n",
       "</tr>\n",
       "<tr>\n",
       "  <th>Model:</th>           <td>SARIMAX(1, 0, 1)x(2, 1, [1, 2], 12)</td> <th>  Log Likelihood     </th> <td>-180.083</td>\n",
       "</tr>\n",
       "<tr>\n",
       "  <th>Date:</th>                     <td>Tue, 07 Mar 2023</td>           <th>  AIC                </th>  <td>382.167</td>\n",
       "</tr>\n",
       "<tr>\n",
       "  <th>Time:</th>                         <td>15:18:04</td>               <th>  BIC                </th>  <td>455.369</td>\n",
       "</tr>\n",
       "<tr>\n",
       "  <th>Sample:</th>                           <td>0</td>                  <th>  HQIC               </th>  <td>407.645</td>\n",
       "</tr>\n",
       "<tr>\n",
       "  <th></th>                               <td> - 5749</td>               <th>                     </th>     <td> </td>   \n",
       "</tr>\n",
       "<tr>\n",
       "  <th>Covariance Type:</th>                 <td>opg</td>                 <th>                     </th>     <td> </td>   \n",
       "</tr>\n",
       "</table>\n",
       "<table class=\"simpletable\">\n",
       "<tr>\n",
       "      <td></td>         <th>coef</th>     <th>std err</th>      <th>z</th>      <th>P>|z|</th>  <th>[0.025</th>    <th>0.975]</th>  \n",
       "</tr>\n",
       "<tr>\n",
       "  <th>intercept</th> <td>   -0.0096</td> <td>    0.002</td> <td>   -4.189</td> <td> 0.000</td> <td>   -0.014</td> <td>   -0.005</td>\n",
       "</tr>\n",
       "<tr>\n",
       "  <th>HSI</th>       <td>    0.0007</td> <td> 8.05e-06</td> <td>   80.867</td> <td> 0.000</td> <td>    0.001</td> <td>    0.001</td>\n",
       "</tr>\n",
       "<tr>\n",
       "  <th>DJI</th>       <td> -1.79e-05</td> <td> 1.28e-05</td> <td>   -1.402</td> <td> 0.161</td> <td>-4.29e-05</td> <td> 7.12e-06</td>\n",
       "</tr>\n",
       "<tr>\n",
       "  <th>SSEC</th>      <td> 5.261e-05</td> <td> 6.02e-05</td> <td>    0.874</td> <td> 0.382</td> <td>-6.53e-05</td> <td>    0.000</td>\n",
       "</tr>\n",
       "<tr>\n",
       "  <th>ar.L1</th>     <td>    0.8906</td> <td>    0.004</td> <td>  207.717</td> <td> 0.000</td> <td>    0.882</td> <td>    0.899</td>\n",
       "</tr>\n",
       "<tr>\n",
       "  <th>ma.L1</th>     <td>    0.0112</td> <td>    0.012</td> <td>    0.964</td> <td> 0.335</td> <td>   -0.012</td> <td>    0.034</td>\n",
       "</tr>\n",
       "<tr>\n",
       "  <th>ar.S.L12</th>  <td>   -0.4231</td> <td>    0.099</td> <td>   -4.288</td> <td> 0.000</td> <td>   -0.617</td> <td>   -0.230</td>\n",
       "</tr>\n",
       "<tr>\n",
       "  <th>ar.S.L24</th>  <td>   -0.1845</td> <td>    0.019</td> <td>   -9.557</td> <td> 0.000</td> <td>   -0.222</td> <td>   -0.147</td>\n",
       "</tr>\n",
       "<tr>\n",
       "  <th>ma.S.L12</th>  <td>   -0.3087</td> <td>    0.098</td> <td>   -3.150</td> <td> 0.002</td> <td>   -0.501</td> <td>   -0.117</td>\n",
       "</tr>\n",
       "<tr>\n",
       "  <th>ma.S.L24</th>  <td>   -0.0440</td> <td>    0.061</td> <td>   -0.722</td> <td> 0.470</td> <td>   -0.163</td> <td>    0.075</td>\n",
       "</tr>\n",
       "<tr>\n",
       "  <th>sigma2</th>    <td>    0.0623</td> <td>    0.001</td> <td>   75.350</td> <td> 0.000</td> <td>    0.061</td> <td>    0.064</td>\n",
       "</tr>\n",
       "</table>\n",
       "<table class=\"simpletable\">\n",
       "<tr>\n",
       "  <th>Ljung-Box (L1) (Q):</th>     <td>9.08</td> <th>  Jarque-Bera (JB):  </th> <td>1539.83</td>\n",
       "</tr>\n",
       "<tr>\n",
       "  <th>Prob(Q):</th>                <td>0.00</td> <th>  Prob(JB):          </th>  <td>0.00</td>  \n",
       "</tr>\n",
       "<tr>\n",
       "  <th>Heteroskedasticity (H):</th> <td>2.83</td> <th>  Skew:              </th>  <td>0.08</td>  \n",
       "</tr>\n",
       "<tr>\n",
       "  <th>Prob(H) (two-sided):</th>    <td>0.00</td> <th>  Kurtosis:          </th>  <td>5.53</td>  \n",
       "</tr>\n",
       "</table><br/><br/>Warnings:<br/>[1] Covariance matrix calculated using the outer product of gradients (complex-step)."
      ],
      "text/plain": [
       "<class 'statsmodels.iolib.summary.Summary'>\n",
       "\"\"\"\n",
       "                                        SARIMAX Results                                        \n",
       "===============================================================================================\n",
       "Dep. Variable:                                       y   No. Observations:                 5749\n",
       "Model:             SARIMAX(1, 0, 1)x(2, 1, [1, 2], 12)   Log Likelihood                -180.083\n",
       "Date:                                 Tue, 07 Mar 2023   AIC                            382.167\n",
       "Time:                                         15:18:04   BIC                            455.369\n",
       "Sample:                                              0   HQIC                           407.645\n",
       "                                                - 5749                                         \n",
       "Covariance Type:                                   opg                                         \n",
       "==============================================================================\n",
       "                 coef    std err          z      P>|z|      [0.025      0.975]\n",
       "------------------------------------------------------------------------------\n",
       "intercept     -0.0096      0.002     -4.189      0.000      -0.014      -0.005\n",
       "HSI            0.0007   8.05e-06     80.867      0.000       0.001       0.001\n",
       "DJI         -1.79e-05   1.28e-05     -1.402      0.161   -4.29e-05    7.12e-06\n",
       "SSEC        5.261e-05   6.02e-05      0.874      0.382   -6.53e-05       0.000\n",
       "ar.L1          0.8906      0.004    207.717      0.000       0.882       0.899\n",
       "ma.L1          0.0112      0.012      0.964      0.335      -0.012       0.034\n",
       "ar.S.L12      -0.4231      0.099     -4.288      0.000      -0.617      -0.230\n",
       "ar.S.L24      -0.1845      0.019     -9.557      0.000      -0.222      -0.147\n",
       "ma.S.L12      -0.3087      0.098     -3.150      0.002      -0.501      -0.117\n",
       "ma.S.L24      -0.0440      0.061     -0.722      0.470      -0.163       0.075\n",
       "sigma2         0.0623      0.001     75.350      0.000       0.061       0.064\n",
       "===================================================================================\n",
       "Ljung-Box (L1) (Q):                   9.08   Jarque-Bera (JB):              1539.83\n",
       "Prob(Q):                              0.00   Prob(JB):                         0.00\n",
       "Heteroskedasticity (H):               2.83   Skew:                             0.08\n",
       "Prob(H) (two-sided):                  0.00   Kurtosis:                         5.53\n",
       "===================================================================================\n",
       "\n",
       "Warnings:\n",
       "[1] Covariance matrix calculated using the outer product of gradients (complex-step).\n",
       "\"\"\""
      ]
     },
     "execution_count": 28,
     "metadata": {},
     "output_type": "execute_result"
    }
   ],
   "source": [
    "# HK0101SARIMA = getSARIMAmodel(HK0101Train[scope], HK0101Train[[\"HSI\", \"DJI\", \"SSEC\"]], True) # SARIMAX(1, 0, 1)x(2, 1, [1, 2], 12)\n",
    "HK0101SARIMA = pm.ARIMA(order=(1, 0, 1), seasonal_order=(2, 1, 2, 12), suppress_warnings=True).fit(HK0101Train[scope], HK0101Train[[\"HSI\", \"DJI\", \"SSEC\"]])\n",
    "HK0101SARIMA.summary()\n"
   ]
  },
  {
   "cell_type": "code",
   "execution_count": 29,
   "metadata": {},
   "outputs": [
    {
     "name": "stdout",
     "output_type": "stream",
     "text": [
      "MAPE: 0.04607797239604674\n"
     ]
    },
    {
     "name": "stderr",
     "output_type": "stream",
     "text": [
      "/home/alex/miniconda3/envs/nppd/lib/python3.10/site-packages/statsmodels/tsa/base/tsa_model.py:834: ValueWarning: No supported index is available. Prediction results will be given with an integer index beginning at `start`.\n",
      "  return get_prediction_index(\n"
     ]
    }
   ],
   "source": [
    "HK0101SFC, HK0101SCI = HK0101SARIMA.predict(n_periods=len(HK0101Test[scope]), X=HK0101Test[[\"HSI\", \"DJI\", \"SSEC\"]], return_conf_int=True)\n",
    "HK0101SMAPE = getMAPE(HK0101SFC, HK0101Test[scope])\n",
    "\n",
    "# plotPred(HK0101SFC, HK0101SCI, HK0101Test.index, HK0101[scope])\n",
    "print(f\"MAPE: {HK0101SMAPE}\")\n"
   ]
  },
  {
   "attachments": {},
   "cell_type": "markdown",
   "metadata": {},
   "source": [
    "### Forcasting with basic model\n"
   ]
  },
  {
   "cell_type": "code",
   "execution_count": 30,
   "metadata": {},
   "outputs": [],
   "source": [
    "indexExt = getRequiredTimestamp(list(copy.deepcopy(HK0005Test.index)))\n"
   ]
  },
  {
   "attachments": {},
   "cell_type": "markdown",
   "metadata": {},
   "source": [
    "#### 0005HK"
   ]
  },
  {
   "cell_type": "code",
   "execution_count": 31,
   "metadata": {},
   "outputs": [
    {
     "data": {
      "image/png": "[encoded data removed]",
      "text/plain": [
       "<Figure size 1500x500 with 1 Axes>"
      ]
     },
     "metadata": {},
     "output_type": "display_data"
    }
   ],
   "source": [
    "HK0005FFC, HK0005FCI = HK0005Base.predict(n_periods=len(indexExt), return_conf_int=True)\n",
    "plotPredFC(HK0005SFC, HK0005SCI, HK0005Test.index, HK0005FFC[33:], HK0005FCI[33:], indexExt[33:], HK0005[scope], \"HK0005\")\n"
   ]
  },
  {
   "cell_type": "code",
   "execution_count": 32,
   "metadata": {},
   "outputs": [
    {
     "data": {
      "text/plain": [
       "[(Timestamp('2023-03-13 00:00:00'), 48.606933269598066),\n",
       " (Timestamp('2023-03-15 00:00:00'), 48.59425742623947),\n",
       " (Timestamp('2023-03-17 00:00:00'), 48.548029888317906)]"
      ]
     },
     "execution_count": 32,
     "metadata": {},
     "output_type": "execute_result"
    }
   ],
   "source": [
    "[(indexExt[x], HK0005FFC[x]) for x in [46, 48, 50]]\n"
   ]
  },
  {
   "attachments": {},
   "cell_type": "markdown",
   "metadata": {},
   "source": [
    "#### 0027HK"
   ]
  },
  {
   "cell_type": "code",
   "execution_count": 33,
   "metadata": {},
   "outputs": [
    {
     "data": {
      "image/png": "[encoded data removed]",
      "text/plain": [
       "<Figure size 1500x500 with 1 Axes>"
      ]
     },
     "metadata": {},
     "output_type": "display_data"
    }
   ],
   "source": [
    "HK0027FFC, HK0027FCI = HK0027Base.predict(n_periods=len(indexExt), return_conf_int=True)\n",
    "plotPredFC(HK0027AFC, HK0027ACI, HK0027Test.index, HK0027FFC[33:], HK0027FCI[33:], indexExt[33:], HK0027[scope], \"HK0027\")\n"
   ]
  },
  {
   "cell_type": "code",
   "execution_count": 34,
   "metadata": {},
   "outputs": [
    {
     "data": {
      "text/plain": [
       "[(Timestamp('2023-03-13 00:00:00'), 51.820418433262894),\n",
       " (Timestamp('2023-03-15 00:00:00'), 51.878101232089406),\n",
       " (Timestamp('2023-03-17 00:00:00'), 51.84688799067937)]"
      ]
     },
     "execution_count": 34,
     "metadata": {},
     "output_type": "execute_result"
    }
   ],
   "source": [
    "[(indexExt[x], HK0027FFC[x]) for x in [46, 48, 50]]\n"
   ]
  },
  {
   "attachments": {},
   "cell_type": "markdown",
   "metadata": {},
   "source": [
    "#### 0101HK"
   ]
  },
  {
   "cell_type": "code",
   "execution_count": 35,
   "metadata": {},
   "outputs": [
    {
     "data": {
      "image/png": "[encoded data removed]",
      "text/plain": [
       "<Figure size 1500x500 with 1 Axes>"
      ]
     },
     "metadata": {},
     "output_type": "display_data"
    }
   ],
   "source": [
    "HK0101FFC, HK0101FCI = HK0101Base.predict(n_periods=len(indexExt), return_conf_int=True)\n",
    "plotPredFC(HK0101SFC, HK0101SCI, HK0101Test.index, HK0101FFC[33:], HK0101FCI[33:], indexExt[33:], HK0101[scope], \"HK0101\")\n"
   ]
  },
  {
   "cell_type": "code",
   "execution_count": 36,
   "metadata": {},
   "outputs": [
    {
     "data": {
      "text/plain": [
       "[(Timestamp('2023-03-13 00:00:00'), 15.16044811506232),\n",
       " (Timestamp('2023-03-15 00:00:00'), 15.16427981760402),\n",
       " (Timestamp('2023-03-17 00:00:00'), 15.168184298179733)]"
      ]
     },
     "execution_count": 36,
     "metadata": {},
     "output_type": "execute_result"
    }
   ],
   "source": [
    "[(indexExt[x], HK0101FFC[x]) for x in [46, 48, 50]]\n"
   ]
  }
 ],
 "metadata": {
  "kernelspec": {
   "display_name": "nppd",
   "language": "python",
   "name": "python3"
  },
  "language_info": {
   "codemirror_mode": {
    "name": "ipython",
    "version": 3
   },
   "file_extension": ".py",
   "mimetype": "text/x-python",
   "name": "python",
   "nbconvert_exporter": "python",
   "pygments_lexer": "ipython3",
   "version": "3.10.9"
  },
  "orig_nbformat": 4,
  "vscode": {
   "interpreter": {
    "hash": "2a2c7acd9b94c8df50ac206398fe68707bb6df968f2fb569859aba024f604bec"
   }
  }
 },
 "nbformat": 4,
 "nbformat_minor": 2
}
