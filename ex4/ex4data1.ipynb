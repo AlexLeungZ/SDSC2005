{
 "cells": [
  {
   "attachments": {},
   "cell_type": "markdown",
   "metadata": {},
   "source": [
    "## Library\n"
   ]
  },
  {
   "cell_type": "code",
   "execution_count": 1,
   "metadata": {},
   "outputs": [],
   "source": [
    "import copy\n",
    "import datetime as dt\n",
    "import linearmodels as lm\n",
    "import matplotlib.pyplot as plt\n",
    "import pandas as pd\n",
    "import statsmodels.api as sm\n",
    "from scipy import signal\n"
   ]
  },
  {
   "attachments": {},
   "cell_type": "markdown",
   "metadata": {},
   "source": [
    "### Supporting functions\n"
   ]
  },
  {
   "cell_type": "code",
   "execution_count": 2,
   "metadata": {},
   "outputs": [],
   "source": [
    "def halfHour(time: dt.time) -> str:\n",
    "    if dt.time(9, 30) <= time <= dt.time(9, 59):\n",
    "        return \"09H2\"\n",
    "    elif dt.time(10, 00) <= time <= dt.time(10, 29):\n",
    "        return \"10H1\"\n",
    "    elif dt.time(10, 30) <= time <= dt.time(10, 59):\n",
    "        return \"10H2\"\n",
    "    elif dt.time(11, 00) <= time <= dt.time(11, 29):\n",
    "        return \"11H1\"\n",
    "    elif dt.time(11, 30) <= time <= dt.time(12, 5):\n",
    "        return \"11H2\"\n",
    "    elif dt.time(13, 00) <= time <= dt.time(13, 29):\n",
    "        return \"13H1\"\n",
    "    elif dt.time(13, 30) <= time <= dt.time(13, 59):\n",
    "        return \"13H2\"\n",
    "    elif dt.time(14, 00) <= time <= dt.time(14, 29):\n",
    "        return \"14H1\"\n",
    "    elif dt.time(14, 30) <= time <= dt.time(14, 59):\n",
    "        return \"14H2\"\n",
    "    elif dt.time(15, 00) <= time <= dt.time(15, 29):\n",
    "        return \"15H1\"\n",
    "    elif dt.time(15, 30) <= time <= dt.time(15, 59):\n",
    "        return \"15H2\"\n",
    "    else:\n",
    "        return \"Err\"\n"
   ]
  },
  {
   "cell_type": "code",
   "execution_count": 3,
   "metadata": {},
   "outputs": [],
   "source": [
    "def readIntraday(path: str, sheet: str) -> pd.DataFrame:\n",
    "    df = pd.read_excel(path, sheet_name=sheet, parse_dates=[0])\n",
    "    df.set_index([df.index, df[\"Datetime\"]], inplace=True)\n",
    "    df.drop([\"Datetime\"], axis=1, inplace=True)\n",
    "    df[\"Date\"] = [day[1].date() for day in df.index]\n",
    "    df[\"Time\"] = [day[1].time() for day in df.index]\n",
    "    df[\"HHV\"] = [halfHour(i) for i in df[\"Time\"]]\n",
    "    return df\n"
   ]
  },
  {
   "cell_type": "code",
   "execution_count": 4,
   "metadata": {},
   "outputs": [],
   "source": [
    "def readInterday(path: str, sheet: str) -> pd.DataFrame:\n",
    "    df = pd.read_excel(path, sheet_name=sheet, parse_dates=[0]).iloc[:, :2]\n",
    "    df.set_index([df.index, \"Date\"], inplace=True)\n",
    "    df.interpolate(method=\"linear\", limit_direction=\"forward\", axis=0, inplace=True)\n",
    "    df[\"YRV\"] = [f\"Y{day[1].date().year}\" for day in df.index]\n",
    "    df[\"MOV\"] = [f\"M{day[1].date().month}\" for day in df.index]\n",
    "    df[\"WDV\"] = [f\"D{day[1].date().weekday() + 1}\" for day in df.index]\n",
    "    return df\n"
   ]
  },
  {
   "cell_type": "code",
   "execution_count": 5,
   "metadata": {},
   "outputs": [],
   "source": [
    "def detrendByAll(source: pd.DataFrame, colName: str, scope: str) -> pd.DataFrame:\n",
    "    clone = copy.deepcopy(source)\n",
    "    clone[colName] = signal.detrend(source[scope])\n",
    "    return clone\n"
   ]
  },
  {
   "cell_type": "code",
   "execution_count": 6,
   "metadata": {},
   "outputs": [],
   "source": [
    "def detrendByTag(source: pd.DataFrame, colName: str, scope: str, tags: str | list[str]) -> pd.DataFrame:\n",
    "    dfs = [x for _, x in source.groupby(tags)]\n",
    "    for df in dfs:\n",
    "        df[colName] = signal.detrend(df[scope])\n",
    "    return pd.concat(dfs)\n"
   ]
  },
  {
   "cell_type": "code",
   "execution_count": 7,
   "metadata": {},
   "outputs": [],
   "source": [
    "def getOLSModel(df: pd.DataFrame, DV: str, exog_vars: str | list) -> lm.PooledOLS:\n",
    "    exog = sm.add_constant(df[exog_vars])\n",
    "    model = lm.PooledOLS(df[DV], exog)\n",
    "    return model\n"
   ]
  },
  {
   "cell_type": "code",
   "execution_count": 8,
   "metadata": {},
   "outputs": [],
   "source": [
    "def getS2BRatio(buy: str, sell: str, df: pd.DataFrame, yVar: str, scope: str) -> float:\n",
    "    bestBuy = df[df[yVar] == buy][scope].mean()\n",
    "    bestSell = df[df[yVar] == sell][scope].mean()\n",
    "    b2sRatio = bestSell / bestBuy\n",
    "    return b2sRatio\n"
   ]
  },
  {
   "cell_type": "code",
   "execution_count": 9,
   "metadata": {},
   "outputs": [],
   "source": [
    "path = \"./Ex4_data1.xlsx\"\n",
    "\n",
    "intraday = readIntraday(path, \"Intraday_data\")\n",
    "intraday = detrendByAll(intraday, \"DetrendAll\", \"HSI_Price\")\n",
    "intraday = detrendByTag(intraday, \"DetrendDate\", \"HSI_Price\", \"Date\")\n",
    "\n",
    "interday = readInterday(path, \"Interday_data\")\n",
    "interday = detrendByAll(interday, \"DetrendAll\", \"Price\")\n",
    "interday = detrendByTag(interday, \"DetrendYear\", \"Price\", \"YRV\")\n",
    "interday = detrendByTag(interday, \"DetrendMonth\", \"Price\", [\"YRV\", \"MOV\"])\n"
   ]
  },
  {
   "attachments": {},
   "cell_type": "markdown",
   "metadata": {},
   "source": [
    "## Intraday\n"
   ]
  },
  {
   "attachments": {},
   "cell_type": "markdown",
   "metadata": {},
   "source": [
    "### Price plot\n"
   ]
  },
  {
   "cell_type": "code",
   "execution_count": 10,
   "metadata": {},
   "outputs": [
    {
     "data": {
      "text/plain": [
       "<matplotlib.legend.Legend at 0x7f12f83f0cd0>"
      ]
     },
     "execution_count": 10,
     "metadata": {},
     "output_type": "execute_result"
    },
    {
     "data": {
      "image/png": "[encoded data removed]",
      "text/plain": [
       "<Figure size 640x480 with 1 Axes>"
      ]
     },
     "metadata": {},
     "output_type": "display_data"
    }
   ],
   "source": [
    "intraday[[\"HSI_Price\", \"DetrendAll\", \"DetrendDate\"]].droplevel(level=0).plot()\n",
    "plt.legend()\n"
   ]
  },
  {
   "attachments": {},
   "cell_type": "markdown",
   "metadata": {},
   "source": [
    "### Detrend by All Data\n"
   ]
  },
  {
   "cell_type": "code",
   "execution_count": 11,
   "metadata": {},
   "outputs": [
    {
     "data": {
      "text/html": [
       "<table class=\"simpletable\">\n",
       "<caption>PooledOLS Estimation Summary</caption>\n",
       "<tr>\n",
       "  <th>Dep. Variable:</th>       <td>DetrendAll</td>    <th>  R-squared:         </th>     <td>0.0003</td>  \n",
       "</tr>\n",
       "<tr>\n",
       "  <th>Estimator:</th>            <td>PooledOLS</td>    <th>  R-squared (Between):</th>    <td>0.0003</td>  \n",
       "</tr>\n",
       "<tr>\n",
       "  <th>No. Observations:</th>       <td>6035</td>       <th>  R-squared (Within):</th>     <td>0.0000</td>  \n",
       "</tr>\n",
       "<tr>\n",
       "  <th>Date:</th>             <td>Wed, Mar 08 2023</td> <th>  R-squared (Overall):</th>    <td>0.0003</td>  \n",
       "</tr>\n",
       "<tr>\n",
       "  <th>Time:</th>                 <td>00:39:50</td>     <th>  Log-likelihood     </th>   <td>-4.434e+04</td>\n",
       "</tr>\n",
       "<tr>\n",
       "  <th>Cov. Estimator:</th>      <td>Unadjusted</td>    <th>                     </th>        <td></td>     \n",
       "</tr>\n",
       "<tr>\n",
       "  <th></th>                          <td></td>         <th>  F-statistic:       </th>     <td>0.1969</td>  \n",
       "</tr>\n",
       "<tr>\n",
       "  <th>Entities:</th>               <td>6035</td>       <th>  P-value            </th>     <td>0.9966</td>  \n",
       "</tr>\n",
       "<tr>\n",
       "  <th>Avg Obs:</th>               <td>1.0000</td>      <th>  Distribution:      </th>   <td>F(10,6024)</td>\n",
       "</tr>\n",
       "<tr>\n",
       "  <th>Min Obs:</th>               <td>1.0000</td>      <th>                     </th>        <td></td>     \n",
       "</tr>\n",
       "<tr>\n",
       "  <th>Max Obs:</th>               <td>1.0000</td>      <th>  F-statistic (robust):</th>   <td>0.1969</td>  \n",
       "</tr>\n",
       "<tr>\n",
       "  <th></th>                          <td></td>         <th>  P-value            </th>     <td>0.9966</td>  \n",
       "</tr>\n",
       "<tr>\n",
       "  <th>Time periods:</th>           <td>6035</td>       <th>  Distribution:      </th>   <td>F(10,6024)</td>\n",
       "</tr>\n",
       "<tr>\n",
       "  <th>Avg Obs:</th>               <td>1.0000</td>      <th>                     </th>        <td></td>     \n",
       "</tr>\n",
       "<tr>\n",
       "  <th>Min Obs:</th>               <td>1.0000</td>      <th>                     </th>        <td></td>     \n",
       "</tr>\n",
       "<tr>\n",
       "  <th>Max Obs:</th>               <td>1.0000</td>      <th>                     </th>        <td></td>     \n",
       "</tr>\n",
       "<tr>\n",
       "  <th></th>                          <td></td>         <th>                     </th>        <td></td>     \n",
       "</tr>\n",
       "</table>\n",
       "<table class=\"simpletable\">\n",
       "<caption>Parameter Estimates</caption>\n",
       "<tr>\n",
       "      <td></td>     <th>Parameter</th> <th>Std. Err.</th> <th>T-stat</th>  <th>P-value</th> <th>Lower CI</th> <th>Upper CI</th>\n",
       "</tr>\n",
       "<tr>\n",
       "  <th>const</th>     <td>0.2718</td>    <td>16.282</td>   <td>0.0167</td>  <td>0.9867</td>   <td>-31.647</td>  <td>32.190</td> \n",
       "</tr>\n",
       "<tr>\n",
       "  <th>HHV.10H1</th>  <td>4.4872</td>    <td>22.941</td>   <td>0.1956</td>  <td>0.8449</td>   <td>-40.485</td>  <td>49.459</td> \n",
       "</tr>\n",
       "<tr>\n",
       "  <th>HHV.10H2</th>  <td>-3.2714</td>   <td>22.941</td>   <td>-0.1426</td> <td>0.8866</td>   <td>-48.244</td>  <td>41.701</td> \n",
       "</tr>\n",
       "<tr>\n",
       "  <th>HHV.11H1</th>  <td>-6.4753</td>   <td>22.973</td>   <td>-0.2819</td> <td>0.7781</td>   <td>-51.510</td>  <td>38.559</td> \n",
       "</tr>\n",
       "<tr>\n",
       "  <th>HHV.11H2</th>  <td>-2.4955</td>   <td>21.972</td>   <td>-0.1136</td> <td>0.9096</td>   <td>-45.568</td>  <td>40.577</td> \n",
       "</tr>\n",
       "<tr>\n",
       "  <th>HHV.13H1</th>  <td>-11.276</td>   <td>22.941</td>   <td>-0.4915</td> <td>0.6231</td>   <td>-56.248</td>  <td>33.696</td> \n",
       "</tr>\n",
       "<tr>\n",
       "  <th>HHV.13H2</th>  <td>-5.1430</td>   <td>22.941</td>   <td>-0.2242</td> <td>0.8226</td>   <td>-50.115</td>  <td>39.829</td> \n",
       "</tr>\n",
       "<tr>\n",
       "  <th>HHV.14H1</th>  <td>2.1192</td>    <td>22.941</td>   <td>0.0924</td>  <td>0.9264</td>   <td>-42.853</td>  <td>47.091</td> \n",
       "</tr>\n",
       "<tr>\n",
       "  <th>HHV.14H2</th>  <td>-2.1544</td>   <td>22.941</td>   <td>-0.0939</td> <td>0.9252</td>   <td>-47.127</td>  <td>42.818</td> \n",
       "</tr>\n",
       "<tr>\n",
       "  <th>HHV.15H1</th>  <td>6.4901</td>    <td>22.941</td>   <td>0.2829</td>  <td>0.7773</td>   <td>-38.482</td>  <td>51.462</td> \n",
       "</tr>\n",
       "<tr>\n",
       "  <th>HHV.15H2</th>  <td>15.200</td>    <td>22.962</td>   <td>0.6620</td>  <td>0.5080</td>   <td>-29.813</td>  <td>60.214</td> \n",
       "</tr>\n",
       "</table><br/>id: 0x7f12f8417fa0"
      ],
      "text/plain": [
       "                          PooledOLS Estimation Summary                          \n",
       "================================================================================\n",
       "Dep. Variable:             DetrendAll   R-squared:                        0.0003\n",
       "Estimator:                  PooledOLS   R-squared (Between):              0.0003\n",
       "No. Observations:                6035   R-squared (Within):               0.0000\n",
       "Date:                Wed, Mar 08 2023   R-squared (Overall):              0.0003\n",
       "Time:                        00:39:50   Log-likelihood                -4.434e+04\n",
       "Cov. Estimator:            Unadjusted                                           \n",
       "                                        F-statistic:                      0.1969\n",
       "Entities:                        6035   P-value                           0.9966\n",
       "Avg Obs:                       1.0000   Distribution:                 F(10,6024)\n",
       "Min Obs:                       1.0000                                           \n",
       "Max Obs:                       1.0000   F-statistic (robust):             0.1969\n",
       "                                        P-value                           0.9966\n",
       "Time periods:                    6035   Distribution:                 F(10,6024)\n",
       "Avg Obs:                       1.0000                                           \n",
       "Min Obs:                       1.0000                                           \n",
       "Max Obs:                       1.0000                                           \n",
       "                                                                                \n",
       "                             Parameter Estimates                              \n",
       "==============================================================================\n",
       "            Parameter  Std. Err.     T-stat    P-value    Lower CI    Upper CI\n",
       "------------------------------------------------------------------------------\n",
       "const          0.2718     16.282     0.0167     0.9867     -31.647      32.190\n",
       "HHV.10H1       4.4872     22.941     0.1956     0.8449     -40.485      49.459\n",
       "HHV.10H2      -3.2714     22.941    -0.1426     0.8866     -48.244      41.701\n",
       "HHV.11H1      -6.4753     22.973    -0.2819     0.7781     -51.510      38.559\n",
       "HHV.11H2      -2.4955     21.972    -0.1136     0.9096     -45.568      40.577\n",
       "HHV.13H1      -11.276     22.941    -0.4915     0.6231     -56.248      33.696\n",
       "HHV.13H2      -5.1430     22.941    -0.2242     0.8226     -50.115      39.829\n",
       "HHV.14H1       2.1192     22.941     0.0924     0.9264     -42.853      47.091\n",
       "HHV.14H2      -2.1544     22.941    -0.0939     0.9252     -47.127      42.818\n",
       "HHV.15H1       6.4901     22.941     0.2829     0.7773     -38.482      51.462\n",
       "HHV.15H2       15.200     22.962     0.6620     0.5080     -29.813      60.214\n",
       "==============================================================================\n",
       "PanelResults, id: 0x7f12f8417fa0"
      ]
     },
     "execution_count": 11,
     "metadata": {},
     "output_type": "execute_result"
    }
   ],
   "source": [
    "modelFit = getOLSModel(intraday, \"DetrendAll\", \"HHV\").fit()\n",
    "modelFit\n"
   ]
  },
  {
   "cell_type": "code",
   "execution_count": 12,
   "metadata": {},
   "outputs": [
    {
     "data": {
      "text/plain": [
       "1.0003645369836294"
      ]
     },
     "execution_count": 12,
     "metadata": {},
     "output_type": "execute_result"
    }
   ],
   "source": [
    "bestBuyTime = \"13H1\"\n",
    "bestSellTime = \"15H2\"\n",
    "getS2BRatio(bestBuyTime, bestSellTime, intraday, \"HHV\", \"HSI_Price\")\n"
   ]
  },
  {
   "attachments": {},
   "cell_type": "markdown",
   "metadata": {},
   "source": [
    "### Detrend by Day\n"
   ]
  },
  {
   "cell_type": "code",
   "execution_count": 13,
   "metadata": {},
   "outputs": [
    {
     "data": {
      "text/html": [
       "<table class=\"simpletable\">\n",
       "<caption>PooledOLS Estimation Summary</caption>\n",
       "<tr>\n",
       "  <th>Dep. Variable:</th>       <td>DetrendDate</td>   <th>  R-squared:         </th>     <td>0.0186</td>  \n",
       "</tr>\n",
       "<tr>\n",
       "  <th>Estimator:</th>            <td>PooledOLS</td>    <th>  R-squared (Between):</th>    <td>0.0186</td>  \n",
       "</tr>\n",
       "<tr>\n",
       "  <th>No. Observations:</th>       <td>6035</td>       <th>  R-squared (Within):</th>     <td>0.0000</td>  \n",
       "</tr>\n",
       "<tr>\n",
       "  <th>Date:</th>             <td>Wed, Mar 08 2023</td> <th>  R-squared (Overall):</th>    <td>0.0186</td>  \n",
       "</tr>\n",
       "<tr>\n",
       "  <th>Time:</th>                 <td>00:39:51</td>     <th>  Log-likelihood     </th>   <td>-3.208e+04</td>\n",
       "</tr>\n",
       "<tr>\n",
       "  <th>Cov. Estimator:</th>      <td>Unadjusted</td>    <th>                     </th>        <td></td>     \n",
       "</tr>\n",
       "<tr>\n",
       "  <th></th>                          <td></td>         <th>  F-statistic:       </th>     <td>11.407</td>  \n",
       "</tr>\n",
       "<tr>\n",
       "  <th>Entities:</th>               <td>6035</td>       <th>  P-value            </th>     <td>0.0000</td>  \n",
       "</tr>\n",
       "<tr>\n",
       "  <th>Avg Obs:</th>               <td>1.0000</td>      <th>  Distribution:      </th>   <td>F(10,6024)</td>\n",
       "</tr>\n",
       "<tr>\n",
       "  <th>Min Obs:</th>               <td>1.0000</td>      <th>                     </th>        <td></td>     \n",
       "</tr>\n",
       "<tr>\n",
       "  <th>Max Obs:</th>               <td>1.0000</td>      <th>  F-statistic (robust):</th>   <td>11.407</td>  \n",
       "</tr>\n",
       "<tr>\n",
       "  <th></th>                          <td></td>         <th>  P-value            </th>     <td>0.0000</td>  \n",
       "</tr>\n",
       "<tr>\n",
       "  <th>Time periods:</th>           <td>6035</td>       <th>  Distribution:      </th>   <td>F(10,6024)</td>\n",
       "</tr>\n",
       "<tr>\n",
       "  <th>Avg Obs:</th>               <td>1.0000</td>      <th>                     </th>        <td></td>     \n",
       "</tr>\n",
       "<tr>\n",
       "  <th>Min Obs:</th>               <td>1.0000</td>      <th>                     </th>        <td></td>     \n",
       "</tr>\n",
       "<tr>\n",
       "  <th>Max Obs:</th>               <td>1.0000</td>      <th>                     </th>        <td></td>     \n",
       "</tr>\n",
       "<tr>\n",
       "  <th></th>                          <td></td>         <th>                     </th>        <td></td>     \n",
       "</tr>\n",
       "</table>\n",
       "<table class=\"simpletable\">\n",
       "<caption>Parameter Estimates</caption>\n",
       "<tr>\n",
       "      <td></td>     <th>Parameter</th> <th>Std. Err.</th> <th>T-stat</th>  <th>P-value</th> <th>Lower CI</th> <th>Upper CI</th>\n",
       "</tr>\n",
       "<tr>\n",
       "  <th>const</th>     <td>9.7529</td>    <td>2.1373</td>   <td>4.5632</td>  <td>0.0000</td>   <td>5.5631</td>   <td>13.943</td> \n",
       "</tr>\n",
       "<tr>\n",
       "  <th>HHV.10H1</th>  <td>-3.4887</td>   <td>3.0114</td>   <td>-1.1585</td> <td>0.2467</td>   <td>-9.3921</td>  <td>2.4147</td> \n",
       "</tr>\n",
       "<tr>\n",
       "  <th>HHV.10H2</th>  <td>-11.738</td>   <td>3.0114</td>   <td>-3.8978</td> <td>0.0001</td>   <td>-17.641</td>  <td>-5.8345</td>\n",
       "</tr>\n",
       "<tr>\n",
       "  <th>HHV.11H1</th>  <td>-16.065</td>   <td>3.0156</td>   <td>-5.3274</td> <td>0.0000</td>   <td>-21.977</td>  <td>-10.153</td>\n",
       "</tr>\n",
       "<tr>\n",
       "  <th>HHV.11H2</th>  <td>-11.984</td>   <td>2.8842</td>   <td>-4.1552</td> <td>0.0000</td>   <td>-17.638</td>  <td>-6.3302</td>\n",
       "</tr>\n",
       "<tr>\n",
       "  <th>HHV.13H1</th>  <td>-21.304</td>   <td>3.0114</td>   <td>-7.0746</td> <td>0.0000</td>   <td>-27.208</td>  <td>-15.401</td>\n",
       "</tr>\n",
       "<tr>\n",
       "  <th>HHV.13H2</th>  <td>-15.662</td>   <td>3.0114</td>   <td>-5.2009</td> <td>0.0000</td>   <td>-21.565</td>  <td>-9.7584</td>\n",
       "</tr>\n",
       "<tr>\n",
       "  <th>HHV.14H1</th>  <td>-8.8901</td>   <td>3.0114</td>   <td>-2.9522</td> <td>0.0032</td>   <td>-14.794</td>  <td>-2.9867</td>\n",
       "</tr>\n",
       "<tr>\n",
       "  <th>HHV.14H2</th>  <td>-13.654</td>   <td>3.0114</td>   <td>-4.5342</td> <td>0.0000</td>   <td>-19.558</td>  <td>-7.7508</td>\n",
       "</tr>\n",
       "<tr>\n",
       "  <th>HHV.15H1</th>  <td>-5.5002</td>   <td>3.0114</td>   <td>-1.8265</td> <td>0.0678</td>   <td>-11.404</td>  <td>0.4032</td> \n",
       "</tr>\n",
       "<tr>\n",
       "  <th>HHV.15H2</th>  <td>1.6019</td>    <td>3.0142</td>   <td>0.5315</td>  <td>0.5951</td>   <td>-4.3070</td>  <td>7.5107</td> \n",
       "</tr>\n",
       "</table><br/>id: 0x7f12fe04bee0"
      ],
      "text/plain": [
       "                          PooledOLS Estimation Summary                          \n",
       "================================================================================\n",
       "Dep. Variable:            DetrendDate   R-squared:                        0.0186\n",
       "Estimator:                  PooledOLS   R-squared (Between):              0.0186\n",
       "No. Observations:                6035   R-squared (Within):               0.0000\n",
       "Date:                Wed, Mar 08 2023   R-squared (Overall):              0.0186\n",
       "Time:                        00:39:51   Log-likelihood                -3.208e+04\n",
       "Cov. Estimator:            Unadjusted                                           \n",
       "                                        F-statistic:                      11.407\n",
       "Entities:                        6035   P-value                           0.0000\n",
       "Avg Obs:                       1.0000   Distribution:                 F(10,6024)\n",
       "Min Obs:                       1.0000                                           \n",
       "Max Obs:                       1.0000   F-statistic (robust):             11.407\n",
       "                                        P-value                           0.0000\n",
       "Time periods:                    6035   Distribution:                 F(10,6024)\n",
       "Avg Obs:                       1.0000                                           \n",
       "Min Obs:                       1.0000                                           \n",
       "Max Obs:                       1.0000                                           \n",
       "                                                                                \n",
       "                             Parameter Estimates                              \n",
       "==============================================================================\n",
       "            Parameter  Std. Err.     T-stat    P-value    Lower CI    Upper CI\n",
       "------------------------------------------------------------------------------\n",
       "const          9.7529     2.1373     4.5632     0.0000      5.5631      13.943\n",
       "HHV.10H1      -3.4887     3.0114    -1.1585     0.2467     -9.3921      2.4147\n",
       "HHV.10H2      -11.738     3.0114    -3.8978     0.0001     -17.641     -5.8345\n",
       "HHV.11H1      -16.065     3.0156    -5.3274     0.0000     -21.977     -10.153\n",
       "HHV.11H2      -11.984     2.8842    -4.1552     0.0000     -17.638     -6.3302\n",
       "HHV.13H1      -21.304     3.0114    -7.0746     0.0000     -27.208     -15.401\n",
       "HHV.13H2      -15.662     3.0114    -5.2009     0.0000     -21.565     -9.7584\n",
       "HHV.14H1      -8.8901     3.0114    -2.9522     0.0032     -14.794     -2.9867\n",
       "HHV.14H2      -13.654     3.0114    -4.5342     0.0000     -19.558     -7.7508\n",
       "HHV.15H1      -5.5002     3.0114    -1.8265     0.0678     -11.404      0.4032\n",
       "HHV.15H2       1.6019     3.0142     0.5315     0.5951     -4.3070      7.5107\n",
       "==============================================================================\n",
       "PanelResults, id: 0x7f12fe04bee0"
      ]
     },
     "execution_count": 13,
     "metadata": {},
     "output_type": "execute_result"
    }
   ],
   "source": [
    "modelFit = getOLSModel(intraday, \"DetrendDate\", \"HHV\").fit()\n",
    "modelFit\n"
   ]
  },
  {
   "cell_type": "code",
   "execution_count": 14,
   "metadata": {},
   "outputs": [
    {
     "data": {
      "text/plain": [
       "1.0003645369836294"
      ]
     },
     "execution_count": 14,
     "metadata": {},
     "output_type": "execute_result"
    }
   ],
   "source": [
    "bestBuyTime = \"13H1\"\n",
    "bestSellTime = \"15H2\"\n",
    "getS2BRatio(bestBuyTime, bestSellTime, intraday, \"HHV\", \"HSI_Price\")\n"
   ]
  },
  {
   "attachments": {},
   "cell_type": "markdown",
   "metadata": {},
   "source": [
    "## Interday\n"
   ]
  },
  {
   "attachments": {},
   "cell_type": "markdown",
   "metadata": {},
   "source": [
    "### Price plot\n"
   ]
  },
  {
   "cell_type": "code",
   "execution_count": 15,
   "metadata": {},
   "outputs": [
    {
     "data": {
      "text/plain": [
       "<matplotlib.legend.Legend at 0x7f12f840b460>"
      ]
     },
     "execution_count": 15,
     "metadata": {},
     "output_type": "execute_result"
    },
    {
     "data": {
      "image/png": "[encoded data removed]",
      "text/plain": [
       "<Figure size 640x480 with 1 Axes>"
      ]
     },
     "metadata": {},
     "output_type": "display_data"
    }
   ],
   "source": [
    "interday[[\"Price\", \"DetrendAll\", \"DetrendYear\", \"DetrendMonth\"]].droplevel(level=0).plot()\n",
    "plt.legend()\n"
   ]
  },
  {
   "cell_type": "markdown",
   "metadata": {},
   "source": [
    "### Month and weekday as IV\n"
   ]
  },
  {
   "cell_type": "code",
   "execution_count": 16,
   "metadata": {},
   "outputs": [
    {
     "data": {
      "text/html": [
       "<table class=\"simpletable\">\n",
       "<caption>PooledOLS Estimation Summary</caption>\n",
       "<tr>\n",
       "  <th>Dep. Variable:</th>       <td>DetrendAll</td>    <th>  R-squared:         </th>     <td>0.0028</td>  \n",
       "</tr>\n",
       "<tr>\n",
       "  <th>Estimator:</th>            <td>PooledOLS</td>    <th>  R-squared (Between):</th>    <td>0.0028</td>  \n",
       "</tr>\n",
       "<tr>\n",
       "  <th>No. Observations:</th>       <td>9167</td>       <th>  R-squared (Within):</th>     <td>0.0000</td>  \n",
       "</tr>\n",
       "<tr>\n",
       "  <th>Date:</th>             <td>Wed, Mar 08 2023</td> <th>  R-squared (Overall):</th>    <td>0.0028</td>  \n",
       "</tr>\n",
       "<tr>\n",
       "  <th>Time:</th>                 <td>00:39:51</td>     <th>  Log-likelihood     </th>   <td>-8.637e+04</td>\n",
       "</tr>\n",
       "<tr>\n",
       "  <th>Cov. Estimator:</th>      <td>Unadjusted</td>    <th>                     </th>        <td></td>     \n",
       "</tr>\n",
       "<tr>\n",
       "  <th></th>                          <td></td>         <th>  F-statistic:       </th>     <td>1.6035</td>  \n",
       "</tr>\n",
       "<tr>\n",
       "  <th>Entities:</th>               <td>9167</td>       <th>  P-value            </th>     <td>0.0593</td>  \n",
       "</tr>\n",
       "<tr>\n",
       "  <th>Avg Obs:</th>               <td>1.0000</td>      <th>  Distribution:      </th>   <td>F(16,9150)</td>\n",
       "</tr>\n",
       "<tr>\n",
       "  <th>Min Obs:</th>               <td>1.0000</td>      <th>                     </th>        <td></td>     \n",
       "</tr>\n",
       "<tr>\n",
       "  <th>Max Obs:</th>               <td>1.0000</td>      <th>  F-statistic (robust):</th>   <td>1.6035</td>  \n",
       "</tr>\n",
       "<tr>\n",
       "  <th></th>                          <td></td>         <th>  P-value            </th>     <td>0.0593</td>  \n",
       "</tr>\n",
       "<tr>\n",
       "  <th>Time periods:</th>           <td>9167</td>       <th>  Distribution:      </th>   <td>F(16,9150)</td>\n",
       "</tr>\n",
       "<tr>\n",
       "  <th>Avg Obs:</th>               <td>1.0000</td>      <th>                     </th>        <td></td>     \n",
       "</tr>\n",
       "<tr>\n",
       "  <th>Min Obs:</th>               <td>1.0000</td>      <th>                     </th>        <td></td>     \n",
       "</tr>\n",
       "<tr>\n",
       "  <th>Max Obs:</th>               <td>1.0000</td>      <th>                     </th>        <td></td>     \n",
       "</tr>\n",
       "<tr>\n",
       "  <th></th>                          <td></td>         <th>                     </th>        <td></td>     \n",
       "</tr>\n",
       "</table>\n",
       "<table class=\"simpletable\">\n",
       "<caption>Parameter Estimates</caption>\n",
       "<tr>\n",
       "     <td></td>     <th>Parameter</th> <th>Std. Err.</th> <th>T-stat</th>  <th>P-value</th> <th>Lower CI</th> <th>Upper CI</th>\n",
       "</tr>\n",
       "<tr>\n",
       "  <th>const</th>    <td>164.11</td>    <td>124.23</td>   <td>1.3211</td>  <td>0.1865</td>   <td>-79.399</td>  <td>407.62</td> \n",
       "</tr>\n",
       "<tr>\n",
       "  <th>WDV.D2</th>   <td>-2.1823</td>   <td>99.301</td>   <td>-0.0220</td> <td>0.9825</td>   <td>-196.83</td>  <td>192.47</td> \n",
       "</tr>\n",
       "<tr>\n",
       "  <th>WDV.D3</th>   <td>13.640</td>    <td>99.076</td>   <td>0.1377</td>  <td>0.8905</td>   <td>-180.57</td>  <td>207.85</td> \n",
       "</tr>\n",
       "<tr>\n",
       "  <th>WDV.D4</th>   <td>0.3102</td>    <td>99.050</td>   <td>0.0031</td>  <td>0.9975</td>   <td>-193.85</td>  <td>194.47</td> \n",
       "</tr>\n",
       "<tr>\n",
       "  <th>WDV.D5</th>   <td>-2.8457</td>   <td>99.302</td>   <td>-0.0287</td> <td>0.9771</td>   <td>-197.50</td>  <td>191.81</td> \n",
       "</tr>\n",
       "<tr>\n",
       "  <th>WDV.D6</th>   <td>-1877.5</td>   <td>2119.7</td>   <td>-0.8857</td> <td>0.3758</td>   <td>-6032.6</td>  <td>2277.7</td> \n",
       "</tr>\n",
       "<tr>\n",
       "  <th>MOV.M10</th>  <td>-432.65</td>   <td>152.29</td>   <td>-2.8410</td> <td>0.0045</td>   <td>-731.16</td>  <td>-134.13</td>\n",
       "</tr>\n",
       "<tr>\n",
       "  <th>MOV.M11</th>  <td>-281.92</td>   <td>151.63</td>   <td>-1.8592</td> <td>0.0630</td>   <td>-579.16</td>  <td>15.315</td> \n",
       "</tr>\n",
       "<tr>\n",
       "  <th>MOV.M12</th>  <td>-285.54</td>   <td>151.98</td>   <td>-1.8788</td> <td>0.0603</td>   <td>-583.46</td>  <td>12.373</td> \n",
       "</tr>\n",
       "<tr>\n",
       "  <th>MOV.M2</th>   <td>40.169</td>    <td>155.33</td>   <td>0.2586</td>  <td>0.7959</td>   <td>-264.32</td>  <td>344.66</td> \n",
       "</tr>\n",
       "<tr>\n",
       "  <th>MOV.M3</th>   <td>-187.18</td>   <td>150.81</td>   <td>-1.2412</td> <td>0.2146</td>   <td>-482.81</td>  <td>108.44</td> \n",
       "</tr>\n",
       "<tr>\n",
       "  <th>MOV.M4</th>   <td>5.2436</td>    <td>154.03</td>   <td>0.0340</td>  <td>0.9728</td>   <td>-296.70</td>  <td>307.19</td> \n",
       "</tr>\n",
       "<tr>\n",
       "  <th>MOV.M5</th>   <td>-32.130</td>   <td>152.13</td>   <td>-0.2112</td> <td>0.8327</td>   <td>-330.34</td>  <td>266.09</td> \n",
       "</tr>\n",
       "<tr>\n",
       "  <th>MOV.M6</th>   <td>-109.05</td>   <td>152.24</td>   <td>-0.7163</td> <td>0.4738</td>   <td>-407.47</td>  <td>189.36</td> \n",
       "</tr>\n",
       "<tr>\n",
       "  <th>MOV.M7</th>   <td>-62.099</td>   <td>151.29</td>   <td>-0.4105</td> <td>0.6815</td>   <td>-358.66</td>  <td>234.46</td> \n",
       "</tr>\n",
       "<tr>\n",
       "  <th>MOV.M8</th>   <td>-206.94</td>   <td>150.43</td>   <td>-1.3756</td> <td>0.1690</td>   <td>-501.82</td>  <td>87.948</td> \n",
       "</tr>\n",
       "<tr>\n",
       "  <th>MOV.M9</th>   <td>-414.69</td>   <td>152.39</td>   <td>-2.7213</td> <td>0.0065</td>   <td>-713.40</td>  <td>-115.97</td>\n",
       "</tr>\n",
       "</table><br/>id: 0x7f12fe073e20"
      ],
      "text/plain": [
       "                          PooledOLS Estimation Summary                          \n",
       "================================================================================\n",
       "Dep. Variable:             DetrendAll   R-squared:                        0.0028\n",
       "Estimator:                  PooledOLS   R-squared (Between):              0.0028\n",
       "No. Observations:                9167   R-squared (Within):               0.0000\n",
       "Date:                Wed, Mar 08 2023   R-squared (Overall):              0.0028\n",
       "Time:                        00:39:51   Log-likelihood                -8.637e+04\n",
       "Cov. Estimator:            Unadjusted                                           \n",
       "                                        F-statistic:                      1.6035\n",
       "Entities:                        9167   P-value                           0.0593\n",
       "Avg Obs:                       1.0000   Distribution:                 F(16,9150)\n",
       "Min Obs:                       1.0000                                           \n",
       "Max Obs:                       1.0000   F-statistic (robust):             1.6035\n",
       "                                        P-value                           0.0593\n",
       "Time periods:                    9167   Distribution:                 F(16,9150)\n",
       "Avg Obs:                       1.0000                                           \n",
       "Min Obs:                       1.0000                                           \n",
       "Max Obs:                       1.0000                                           \n",
       "                                                                                \n",
       "                             Parameter Estimates                              \n",
       "==============================================================================\n",
       "            Parameter  Std. Err.     T-stat    P-value    Lower CI    Upper CI\n",
       "------------------------------------------------------------------------------\n",
       "const          164.11     124.23     1.3211     0.1865     -79.399      407.62\n",
       "WDV.D2        -2.1823     99.301    -0.0220     0.9825     -196.83      192.47\n",
       "WDV.D3         13.640     99.076     0.1377     0.8905     -180.57      207.85\n",
       "WDV.D4         0.3102     99.050     0.0031     0.9975     -193.85      194.47\n",
       "WDV.D5        -2.8457     99.302    -0.0287     0.9771     -197.50      191.81\n",
       "WDV.D6        -1877.5     2119.7    -0.8857     0.3758     -6032.6      2277.7\n",
       "MOV.M10       -432.65     152.29    -2.8410     0.0045     -731.16     -134.13\n",
       "MOV.M11       -281.92     151.63    -1.8592     0.0630     -579.16      15.315\n",
       "MOV.M12       -285.54     151.98    -1.8788     0.0603     -583.46      12.373\n",
       "MOV.M2         40.169     155.33     0.2586     0.7959     -264.32      344.66\n",
       "MOV.M3        -187.18     150.81    -1.2412     0.2146     -482.81      108.44\n",
       "MOV.M4         5.2436     154.03     0.0340     0.9728     -296.70      307.19\n",
       "MOV.M5        -32.130     152.13    -0.2112     0.8327     -330.34      266.09\n",
       "MOV.M6        -109.05     152.24    -0.7163     0.4738     -407.47      189.36\n",
       "MOV.M7        -62.099     151.29    -0.4105     0.6815     -358.66      234.46\n",
       "MOV.M8        -206.94     150.43    -1.3756     0.1690     -501.82      87.948\n",
       "MOV.M9        -414.69     152.39    -2.7213     0.0065     -713.40     -115.97\n",
       "==============================================================================\n",
       "PanelResults, id: 0x7f12fe073e20"
      ]
     },
     "execution_count": 16,
     "metadata": {},
     "output_type": "execute_result"
    }
   ],
   "source": [
    "modelFit = getOLSModel(interday, \"DetrendAll\", [\"WDV\", \"MOV\"]).fit()\n",
    "modelFit\n"
   ]
  },
  {
   "cell_type": "markdown",
   "metadata": {},
   "source": [
    "#### Daily\n"
   ]
  },
  {
   "cell_type": "code",
   "execution_count": 17,
   "metadata": {},
   "outputs": [
    {
     "data": {
      "text/plain": [
       "1.000333512737961"
      ]
     },
     "execution_count": 17,
     "metadata": {},
     "output_type": "execute_result"
    }
   ],
   "source": [
    "bestBuyTime = \"D5\"\n",
    "bestSellTime = \"D2\"\n",
    "getS2BRatio(bestBuyTime, bestSellTime, interday, \"WDV\", \"Price\")\n"
   ]
  },
  {
   "cell_type": "markdown",
   "metadata": {},
   "source": [
    "#### Monthly\n"
   ]
  },
  {
   "cell_type": "code",
   "execution_count": 18,
   "metadata": {},
   "outputs": [
    {
     "data": {
      "text/plain": [
       "1.0109782260286664"
      ]
     },
     "execution_count": 18,
     "metadata": {},
     "output_type": "execute_result"
    }
   ],
   "source": [
    "bestBuyTime = \"M10\"\n",
    "bestSellTime = \"M2\"\n",
    "getS2BRatio(bestBuyTime, bestSellTime, interday, \"MOV\", \"Price\")\n"
   ]
  },
  {
   "cell_type": "markdown",
   "metadata": {},
   "source": [
    "### Month and weekday as IV with data detrent by year\n"
   ]
  },
  {
   "cell_type": "code",
   "execution_count": 19,
   "metadata": {},
   "outputs": [
    {
     "data": {
      "text/html": [
       "<table class=\"simpletable\">\n",
       "<caption>PooledOLS Estimation Summary</caption>\n",
       "<tr>\n",
       "  <th>Dep. Variable:</th>       <td>DetrendYear</td>   <th>  R-squared:         </th>     <td>0.0108</td>  \n",
       "</tr>\n",
       "<tr>\n",
       "  <th>Estimator:</th>            <td>PooledOLS</td>    <th>  R-squared (Between):</th>    <td>0.0108</td>  \n",
       "</tr>\n",
       "<tr>\n",
       "  <th>No. Observations:</th>       <td>9167</td>       <th>  R-squared (Within):</th>     <td>0.0000</td>  \n",
       "</tr>\n",
       "<tr>\n",
       "  <th>Date:</th>             <td>Wed, Mar 08 2023</td> <th>  R-squared (Overall):</th>    <td>0.0108</td>  \n",
       "</tr>\n",
       "<tr>\n",
       "  <th>Time:</th>                 <td>00:39:51</td>     <th>  Log-likelihood     </th>   <td>-7.579e+04</td>\n",
       "</tr>\n",
       "<tr>\n",
       "  <th>Cov. Estimator:</th>      <td>Unadjusted</td>    <th>                     </th>        <td></td>     \n",
       "</tr>\n",
       "<tr>\n",
       "  <th></th>                          <td></td>         <th>  F-statistic:       </th>     <td>6.2422</td>  \n",
       "</tr>\n",
       "<tr>\n",
       "  <th>Entities:</th>               <td>9167</td>       <th>  P-value            </th>     <td>0.0000</td>  \n",
       "</tr>\n",
       "<tr>\n",
       "  <th>Avg Obs:</th>               <td>1.0000</td>      <th>  Distribution:      </th>   <td>F(16,9150)</td>\n",
       "</tr>\n",
       "<tr>\n",
       "  <th>Min Obs:</th>               <td>1.0000</td>      <th>                     </th>        <td></td>     \n",
       "</tr>\n",
       "<tr>\n",
       "  <th>Max Obs:</th>               <td>1.0000</td>      <th>  F-statistic (robust):</th>   <td>6.2422</td>  \n",
       "</tr>\n",
       "<tr>\n",
       "  <th></th>                          <td></td>         <th>  P-value            </th>     <td>0.0000</td>  \n",
       "</tr>\n",
       "<tr>\n",
       "  <th>Time periods:</th>           <td>9167</td>       <th>  Distribution:      </th>   <td>F(16,9150)</td>\n",
       "</tr>\n",
       "<tr>\n",
       "  <th>Avg Obs:</th>               <td>1.0000</td>      <th>                     </th>        <td></td>     \n",
       "</tr>\n",
       "<tr>\n",
       "  <th>Min Obs:</th>               <td>1.0000</td>      <th>                     </th>        <td></td>     \n",
       "</tr>\n",
       "<tr>\n",
       "  <th>Max Obs:</th>               <td>1.0000</td>      <th>                     </th>        <td></td>     \n",
       "</tr>\n",
       "<tr>\n",
       "  <th></th>                          <td></td>         <th>                     </th>        <td></td>     \n",
       "</tr>\n",
       "</table>\n",
       "<table class=\"simpletable\">\n",
       "<caption>Parameter Estimates</caption>\n",
       "<tr>\n",
       "     <td></td>     <th>Parameter</th> <th>Std. Err.</th> <th>T-stat</th>  <th>P-value</th> <th>Lower CI</th> <th>Upper CI</th>\n",
       "</tr>\n",
       "<tr>\n",
       "  <th>const</th>    <td>9.9123</td>    <td>39.189</td>   <td>0.2529</td>  <td>0.8003</td>   <td>-66.908</td>  <td>86.732</td> \n",
       "</tr>\n",
       "<tr>\n",
       "  <th>WDV.D2</th>   <td>2.2650</td>    <td>31.327</td>   <td>0.0723</td>  <td>0.9424</td>   <td>-59.142</td>  <td>63.672</td> \n",
       "</tr>\n",
       "<tr>\n",
       "  <th>WDV.D3</th>   <td>13.026</td>    <td>31.256</td>   <td>0.4167</td>  <td>0.6769</td>   <td>-48.242</td>  <td>74.293</td> \n",
       "</tr>\n",
       "<tr>\n",
       "  <th>WDV.D4</th>   <td>16.777</td>    <td>31.247</td>   <td>0.5369</td>  <td>0.5913</td>   <td>-44.474</td>  <td>78.029</td> \n",
       "</tr>\n",
       "<tr>\n",
       "  <th>WDV.D5</th>   <td>17.602</td>    <td>31.327</td>   <td>0.5619</td>  <td>0.5742</td>   <td>-43.805</td>  <td>79.009</td> \n",
       "</tr>\n",
       "<tr>\n",
       "  <th>WDV.D6</th>   <td>516.18</td>    <td>668.71</td>   <td>0.7719</td>  <td>0.4402</td>   <td>-794.64</td>  <td>1827.0</td> \n",
       "</tr>\n",
       "<tr>\n",
       "  <th>MOV.M10</th>  <td>-162.35</td>   <td>48.041</td>   <td>-3.3794</td> <td>0.0007</td>   <td>-256.52</td>  <td>-68.177</td>\n",
       "</tr>\n",
       "<tr>\n",
       "  <th>MOV.M11</th>  <td>25.941</td>    <td>47.836</td>   <td>0.5423</td>  <td>0.5876</td>   <td>-67.829</td>  <td>119.71</td> \n",
       "</tr>\n",
       "<tr>\n",
       "  <th>MOV.M12</th>  <td>103.32</td>    <td>47.946</td>   <td>2.1550</td>  <td>0.0312</td>   <td>9.3370</td>   <td>197.31</td> \n",
       "</tr>\n",
       "<tr>\n",
       "  <th>MOV.M2</th>   <td>65.289</td>    <td>49.003</td>   <td>1.3324</td>  <td>0.1828</td>   <td>-30.767</td>  <td>161.35</td> \n",
       "</tr>\n",
       "<tr>\n",
       "  <th>MOV.M3</th>   <td>-204.27</td>   <td>47.576</td>   <td>-4.2936</td> <td>0.0000</td>   <td>-297.53</td>  <td>-111.01</td>\n",
       "</tr>\n",
       "<tr>\n",
       "  <th>MOV.M4</th>   <td>38.171</td>    <td>48.593</td>   <td>0.7855</td>  <td>0.4322</td>   <td>-57.082</td>  <td>133.43</td> \n",
       "</tr>\n",
       "<tr>\n",
       "  <th>MOV.M5</th>   <td>21.304</td>    <td>47.994</td>   <td>0.4439</td>  <td>0.6571</td>   <td>-72.774</td>  <td>115.38</td> \n",
       "</tr>\n",
       "<tr>\n",
       "  <th>MOV.M6</th>   <td>3.2956</td>    <td>48.026</td>   <td>0.0686</td>  <td>0.9453</td>   <td>-90.845</td>  <td>97.437</td> \n",
       "</tr>\n",
       "<tr>\n",
       "  <th>MOV.M7</th>   <td>72.929</td>    <td>47.728</td>   <td>1.5280</td>  <td>0.1265</td>   <td>-20.628</td>  <td>166.49</td> \n",
       "</tr>\n",
       "<tr>\n",
       "  <th>MOV.M8</th>   <td>-28.681</td>   <td>47.457</td>   <td>-0.6043</td> <td>0.5456</td>   <td>-121.71</td>  <td>64.346</td> \n",
       "</tr>\n",
       "<tr>\n",
       "  <th>MOV.M9</th>   <td>-164.31</td>   <td>48.074</td>   <td>-3.4180</td> <td>0.0006</td>   <td>-258.55</td>  <td>-70.079</td>\n",
       "</tr>\n",
       "</table><br/>id: 0x7f12f83e1ed0"
      ],
      "text/plain": [
       "                          PooledOLS Estimation Summary                          \n",
       "================================================================================\n",
       "Dep. Variable:            DetrendYear   R-squared:                        0.0108\n",
       "Estimator:                  PooledOLS   R-squared (Between):              0.0108\n",
       "No. Observations:                9167   R-squared (Within):               0.0000\n",
       "Date:                Wed, Mar 08 2023   R-squared (Overall):              0.0108\n",
       "Time:                        00:39:51   Log-likelihood                -7.579e+04\n",
       "Cov. Estimator:            Unadjusted                                           \n",
       "                                        F-statistic:                      6.2422\n",
       "Entities:                        9167   P-value                           0.0000\n",
       "Avg Obs:                       1.0000   Distribution:                 F(16,9150)\n",
       "Min Obs:                       1.0000                                           \n",
       "Max Obs:                       1.0000   F-statistic (robust):             6.2422\n",
       "                                        P-value                           0.0000\n",
       "Time periods:                    9167   Distribution:                 F(16,9150)\n",
       "Avg Obs:                       1.0000                                           \n",
       "Min Obs:                       1.0000                                           \n",
       "Max Obs:                       1.0000                                           \n",
       "                                                                                \n",
       "                             Parameter Estimates                              \n",
       "==============================================================================\n",
       "            Parameter  Std. Err.     T-stat    P-value    Lower CI    Upper CI\n",
       "------------------------------------------------------------------------------\n",
       "const          9.9123     39.189     0.2529     0.8003     -66.908      86.732\n",
       "WDV.D2         2.2650     31.327     0.0723     0.9424     -59.142      63.672\n",
       "WDV.D3         13.026     31.256     0.4167     0.6769     -48.242      74.293\n",
       "WDV.D4         16.777     31.247     0.5369     0.5913     -44.474      78.029\n",
       "WDV.D5         17.602     31.327     0.5619     0.5742     -43.805      79.009\n",
       "WDV.D6         516.18     668.71     0.7719     0.4402     -794.64      1827.0\n",
       "MOV.M10       -162.35     48.041    -3.3794     0.0007     -256.52     -68.177\n",
       "MOV.M11        25.941     47.836     0.5423     0.5876     -67.829      119.71\n",
       "MOV.M12        103.32     47.946     2.1550     0.0312      9.3370      197.31\n",
       "MOV.M2         65.289     49.003     1.3324     0.1828     -30.767      161.35\n",
       "MOV.M3        -204.27     47.576    -4.2936     0.0000     -297.53     -111.01\n",
       "MOV.M4         38.171     48.593     0.7855     0.4322     -57.082      133.43\n",
       "MOV.M5         21.304     47.994     0.4439     0.6571     -72.774      115.38\n",
       "MOV.M6         3.2956     48.026     0.0686     0.9453     -90.845      97.437\n",
       "MOV.M7         72.929     47.728     1.5280     0.1265     -20.628      166.49\n",
       "MOV.M8        -28.681     47.457    -0.6043     0.5456     -121.71      64.346\n",
       "MOV.M9        -164.31     48.074    -3.4180     0.0006     -258.55     -70.079\n",
       "==============================================================================\n",
       "PanelResults, id: 0x7f12f83e1ed0"
      ]
     },
     "execution_count": 19,
     "metadata": {},
     "output_type": "execute_result"
    }
   ],
   "source": [
    "modelFit = getOLSModel(interday, \"DetrendYear\", [\"WDV\", \"MOV\"]).fit()\n",
    "modelFit\n"
   ]
  },
  {
   "cell_type": "markdown",
   "metadata": {},
   "source": [
    "#### Daily\n"
   ]
  },
  {
   "cell_type": "code",
   "execution_count": 20,
   "metadata": {},
   "outputs": [
    {
     "data": {
      "text/plain": [
       "1.0071564046006214"
      ]
     },
     "execution_count": 20,
     "metadata": {},
     "output_type": "execute_result"
    }
   ],
   "source": [
    "bestBuyTime = \"D1\"\n",
    "bestSellTime = \"D5\"\n",
    "getS2BRatio(bestBuyTime, bestSellTime, interday, \"WDV\", \"Price\")\n"
   ]
  },
  {
   "cell_type": "markdown",
   "metadata": {},
   "source": [
    "#### Monthly\n"
   ]
  },
  {
   "cell_type": "code",
   "execution_count": 21,
   "metadata": {},
   "outputs": [
    {
     "data": {
      "text/plain": [
       "1.0178200586860813"
      ]
     },
     "execution_count": 21,
     "metadata": {},
     "output_type": "execute_result"
    }
   ],
   "source": [
    "bestBuyTime = \"M3\"\n",
    "bestSellTime = \"M12\"\n",
    "getS2BRatio(bestBuyTime, bestSellTime, interday, \"MOV\", \"Price\")\n"
   ]
  }
 ],
 "metadata": {
  "kernelspec": {
   "display_name": "nppd",
   "language": "python",
   "name": "python3"
  },
  "language_info": {
   "codemirror_mode": {
    "name": "ipython",
    "version": 3
   },
   "file_extension": ".py",
   "mimetype": "text/x-python",
   "name": "python",
   "nbconvert_exporter": "python",
   "pygments_lexer": "ipython3",
   "version": "3.10.9"
  },
  "orig_nbformat": 4,
  "vscode": {
   "interpreter": {
    "hash": "2a2c7acd9b94c8df50ac206398fe68707bb6df968f2fb569859aba024f604bec"
   }
  }
 },
 "nbformat": 4,
 "nbformat_minor": 2
}
